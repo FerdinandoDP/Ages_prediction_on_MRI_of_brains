{
  "cells": [
    {
      "cell_type": "code",
      "execution_count": null,
      "metadata": {
        "colab": {
          "base_uri": "https://localhost:8080/"
        },
        "id": "YUxsnwlYYqJR",
        "outputId": "32b5a404-dbc0-4fb4-97e8-d698583dda1c"
      },
      "outputs": [
        {
          "output_type": "stream",
          "name": "stdout",
          "text": [
            "Mounted at /content/drive\n"
          ]
        }
      ],
      "source": [
        "from google.colab import drive\n",
        "drive.mount('/content/drive')"
      ]
    },
    {
      "cell_type": "markdown",
      "source": [
        "# Import of libraries\n"
      ],
      "metadata": {
        "id": "jVa8j0nhdsKp"
      }
    },
    {
      "cell_type": "code",
      "execution_count": null,
      "metadata": {
        "id": "JnFRalBlYugc"
      },
      "outputs": [],
      "source": [
        "import scipy.io as sio\n",
        "import pandas as pd\n",
        "import torch\n",
        "import torch.nn as nn\n",
        "import torch.optim as optim\n",
        "from torch.optim import lr_scheduler\n",
        "import numpy as np\n",
        "import torchvision\n",
        "from torchvision import datasets, models, transforms\n",
        "import torch.utils.data as dataloader\n",
        "import matplotlib.pyplot as plt\n",
        "import time\n",
        "import os\n",
        "import shutil\n",
        "import copy\n",
        "import random\n",
        "from random import shuffle\n",
        "import matplotlib.pyplot as plt\n",
        "import nibabel as nib\n",
        "import skimage.transform as skTrans\n",
        "from torch.utils.data import Dataset, DataLoader\n",
        "import torch.nn.functional as F"
      ]
    },
    {
      "cell_type": "markdown",
      "source": [
        "# Data Preparation"
      ],
      "metadata": {
        "id": "czT3NDyWd5hG"
      }
    },
    {
      "cell_type": "markdown",
      "source": [
        "In this section we have NIFTI images of patients' brain.\n",
        "Before this preparation we split randomically our dataset in two part: train and validation.\n",
        "Each patient has 91 images of his brain, we decided to resize each image in a 91x91 format, after this we normalize all of them using a min max normalization.\n",
        "Furthermore we decided to insert all of them in two different lists: one for train and the other one for validation. In addition we created two lists to mantain the patients' id in according to use them to extract ages."
      ],
      "metadata": {
        "id": "OHO-OmjQeOkQ"
      }
    },
    {
      "cell_type": "code",
      "execution_count": null,
      "metadata": {
        "id": "A7i_ivnHYyam"
      },
      "outputs": [],
      "source": [
        "convert_tensor = transforms.ToTensor()\n",
        "imgs_data_train = []\n",
        "ids_train = []\n",
        "max = 1.2156\n",
        "#min = 0, calcolato prima sul train (altro file per evitare sovraccarico ram)\n",
        "for filename in os.listdir('/content/drive/MyDrive/dataset/train'):\n",
        "  imm = nib.load(os.path.join('/content/drive/MyDrive/dataset/train', filename)).get_fdata()\n",
        "  result1 = skTrans.resize(imm, (91,91,91), order=1, preserve_range=True)\n",
        "  imgs_data_train.append(convert_tensor(np.array(result1)/(max)))\n",
        "  ids_train.append(filename)"
      ]
    },
    {
      "cell_type": "code",
      "execution_count": null,
      "metadata": {
        "id": "j-DgcTRhY1Dn"
      },
      "outputs": [],
      "source": [
        "convert_tensor = transforms.ToTensor()\n",
        "imgs_data_val = []\n",
        "ids_val = []\n",
        "for filename in os.listdir('/content/drive/MyDrive/dataset/validation'):\n",
        "  imm = nib.load(os.path.join('/content/drive/MyDrive/dataset/validation', filename)).get_fdata()\n",
        "  result1 = skTrans.resize(imm, (91,91,91), order=1, preserve_range=True)\n",
        "  imgs_data_val.append(convert_tensor(np.array(result1)/(max)))\n",
        "  ids_val.append(filename)\n",
        "  #ho tutte le imm con resize e fatta anche la normalizzazione min-max (nb: min è 0, ecco perchè c'è solo max)"
      ]
    },
    {
      "cell_type": "markdown",
      "source": [
        "the labels about the ages were inside a csv file. we extracted them using the id of the single patient and we decided to append them in two lists one for train one for validation."
      ],
      "metadata": {
        "id": "sX1fZdvRfT7g"
      }
    },
    {
      "cell_type": "code",
      "execution_count": null,
      "metadata": {
        "id": "bpyTl9VjZNh1"
      },
      "outputs": [],
      "source": [
        "labels = pd.read_csv('/content/drive/MyDrive/label_train.csv') #mi serviva estrarre il target (età), una volta aver preso id, immagine ed age li metto insieme in un dataset\n",
        "ages_train = []\n",
        "\n",
        "for elem in ids_train:\n",
        "  l = labels[labels[\"ID\"] == (elem)]\n",
        "  ages_train.append(l[\"Age\"].values[0])"
      ]
    },
    {
      "cell_type": "code",
      "execution_count": null,
      "metadata": {
        "id": "_MdM9tsKZPUI"
      },
      "outputs": [],
      "source": [
        "ages_val = []\n",
        "\n",
        "for elem in ids_val:\n",
        "  l = labels[labels[\"ID\"] == (elem)]\n",
        "  ages_val.append(l[\"Age\"].values[0])"
      ]
    },
    {
      "cell_type": "markdown",
      "source": [
        "# Datasets creation"
      ],
      "metadata": {
        "id": "x3P7QBWggZ03"
      }
    },
    {
      "cell_type": "markdown",
      "source": [
        "we created a dataset for train and validation. Each of them contains ids, images and the ages named as target."
      ],
      "metadata": {
        "id": "8ENuaQ6_gnBO"
      }
    },
    {
      "cell_type": "code",
      "execution_count": null,
      "metadata": {
        "id": "Ebpnl3OuZWYG"
      },
      "outputs": [],
      "source": [
        "#creazione dataset (sempre uno per train e uno per val) (tre campi: id, imm e target (=età))\n",
        "class MyDataset(Dataset):\n",
        "  def __init__(self, id, data, target):\n",
        "    self.id = id\n",
        "    self.data = data\n",
        "    self.target = target\n",
        "  def __getitem__(self, index): #ricevo quando passo l'indice\n",
        "    x = self.id[index]\n",
        "    y = self.data[index]\n",
        "    z = self.target[index]\n",
        "    return x, y, z\n",
        "  def __len__(self): #capire la lunghezza (num di righe, cioè num di pazienti) del dataset\n",
        "    return len(self.target) #basata su target perchè num età = num pazienti"
      ]
    },
    {
      "cell_type": "code",
      "execution_count": null,
      "metadata": {
        "id": "5e2h_2poZY0m"
      },
      "outputs": [],
      "source": [
        "train_data = MyDataset(ids_train, imgs_data_train, ages_train)\n",
        "val_data = MyDataset(ids_val, imgs_data_val, ages_val)"
      ]
    },
    {
      "cell_type": "markdown",
      "source": [
        "# Batch size"
      ],
      "metadata": {
        "id": "-EYoT4RAg-A6"
      }
    },
    {
      "cell_type": "markdown",
      "source": [
        "we used a batch size of 1 because of limited Ram space of our free version of google colab"
      ],
      "metadata": {
        "id": "IP3-HjhLhBeH"
      }
    },
    {
      "cell_type": "code",
      "execution_count": null,
      "metadata": {
        "id": "cec6mKLSZa-L"
      },
      "outputs": [],
      "source": [
        "Batch_size = 1\n",
        "dataloader_train = DataLoader(train_data, batch_size=Batch_size)\n",
        "dataloader_val = DataLoader(val_data, batch_size=Batch_size)"
      ]
    },
    {
      "cell_type": "markdown",
      "source": [
        "# Defining a CNN 3d from scratch"
      ],
      "metadata": {
        "id": "0ML6FJ4hhnKK"
      }
    },
    {
      "cell_type": "code",
      "execution_count": null,
      "metadata": {
        "id": "dcQMaxInZcvO"
      },
      "outputs": [],
      "source": [
        "#oltre ad avere i neuroni (nn.Linear), ha livello convoluzione e pooling; (vedere cosa fare nelle rete neurale 3d cosa fa convoluzione e max-pooling)\n",
        "class CNN(nn.Module):\n",
        "  def __init__(self, num_classes):\n",
        "    super(CNN, self).__init__()\n",
        "    self.conv_layer1 = nn.Conv3d(in_channels = 1, out_channels = 16, kernel_size = 3, padding = 2)\n",
        "    self.conv_layer2 = nn.Conv3d(in_channels = 16, out_channels = 32, kernel_size = 3, padding = 2)\n",
        "    self.conv_layer3 = nn.Conv3d(in_channels = 32, out_channels = 64, kernel_size = 3, padding = 2)\n",
        "    self.conv_layer4 = nn.Conv3d(in_channels = 64, out_channels = 128, kernel_size = 3, padding = 2)\n",
        "    self.max_pool = nn.MaxPool3d((2,2,2))\n",
        "    self.fc1 = nn.Linear(43904, 512)\n",
        "    self.fc2 = nn.Linear(512, 256)\n",
        "    self.fc3 = nn.Linear(256, num_classes)\n",
        "    self.dropout_lyr = nn.Dropout(0,25)\n",
        "\n",
        "  def forward(self, x):\n",
        "    x = self.max_pool(F.relu(self.conv_layer1(x)))\n",
        "    x = self.max_pool(F.relu(self.conv_layer2(x)))\n",
        "    x = self.max_pool(F.relu(self.conv_layer3(x)))\n",
        "    x = self.max_pool(F.relu(self.conv_layer4(x)))\n",
        "    x = x.view(-1,43904)\n",
        "    x = F.relu(self.fc1(x))\n",
        "    x = self.dropout_lyr(x)\n",
        "    x = F.relu(self.fc2(x))\n",
        "    x = self.dropout_lyr(x)\n",
        "    x = self.fc3(x)\n",
        "    return x"
      ]
    },
    {
      "cell_type": "markdown",
      "source": [
        "# Training"
      ],
      "metadata": {
        "id": "gzvtgYwkh33-"
      }
    },
    {
      "cell_type": "code",
      "execution_count": null,
      "metadata": {
        "colab": {
          "base_uri": "https://localhost:8080/"
        },
        "id": "QbqULfToZfLC",
        "outputId": "e0243f58-a2f3-46d5-b69a-cd4bccf47152"
      },
      "outputs": [
        {
          "output_type": "stream",
          "name": "stdout",
          "text": [
            "Epoch[200] Loss_train: 3.5962 ; Loss: 5.2334\n",
            "Epoch[201] Loss_train: 3.5735 ; Loss: 5.0756\n",
            "..... Saving best weights ....\n",
            "Epoch[202] Loss_train: 3.4623 ; Loss: 5.1637\n",
            "Epoch[203] Loss_train: 3.4005 ; Loss: 5.1265\n",
            "Epoch[204] Loss_train: 3.3582 ; Loss: 5.1690\n",
            "Epoch[205] Loss_train: 3.3054 ; Loss: 5.1172\n",
            "Epoch[206] Loss_train: 3.2850 ; Loss: 5.0306\n",
            "..... Saving best weights ....\n",
            "Epoch[207] Loss_train: 3.2207 ; Loss: 5.0339\n",
            "Epoch[208] Loss_train: 3.1341 ; Loss: 5.4910\n",
            "Epoch[209] Loss_train: 3.1871 ; Loss: 5.3367\n",
            "Epoch[210] Loss_train: 3.0999 ; Loss: 5.4532\n",
            "Epoch[211] Loss_train: 3.0348 ; Loss: 5.2142\n",
            "Epoch[212] Loss_train: 2.9446 ; Loss: 5.2494\n",
            "Epoch[213] Loss_train: 2.9328 ; Loss: 5.1170\n",
            "Epoch[214] Loss_train: 2.8635 ; Loss: 4.9178\n",
            "..... Saving best weights ....\n",
            "Epoch[215] Loss_train: 2.8100 ; Loss: 4.7326\n",
            "..... Saving best weights ....\n",
            "Epoch[216] Loss_train: 2.8037 ; Loss: 4.7749\n",
            "Epoch[217] Loss_train: 2.7598 ; Loss: 5.1693\n",
            "Epoch[218] Loss_train: 2.7508 ; Loss: 5.2300\n",
            "Epoch[219] Loss_train: 2.7571 ; Loss: 5.2079\n",
            "Epoch[220] Loss_train: 2.6332 ; Loss: 5.0917\n",
            "Epoch[221] Loss_train: 2.6369 ; Loss: 4.9414\n",
            "Epoch[222] Loss_train: 2.5593 ; Loss: 4.7313\n",
            "..... Saving best weights ....\n",
            "Epoch[223] Loss_train: 2.4969 ; Loss: 5.9056\n",
            "Epoch[224] Loss_train: 2.4310 ; Loss: 4.9097\n",
            "Epoch[225] Loss_train: 2.5112 ; Loss: 4.6837\n",
            "..... Saving best weights ....\n",
            "Epoch[226] Loss_train: 2.3948 ; Loss: 4.6536\n",
            "..... Saving best weights ....\n",
            "Epoch[227] Loss_train: 2.3867 ; Loss: 4.7684\n",
            "Epoch[228] Loss_train: 2.3244 ; Loss: 4.5689\n",
            "..... Saving best weights ....\n",
            "Epoch[229] Loss_train: 2.3040 ; Loss: 4.5848\n",
            "Epoch[230] Loss_train: 2.2825 ; Loss: 4.4177\n",
            "..... Saving best weights ....\n",
            "Epoch[231] Loss_train: 2.2365 ; Loss: 4.3216\n",
            "..... Saving best weights ....\n",
            "Epoch[232] Loss_train: 2.1742 ; Loss: 4.6990\n",
            "Epoch[233] Loss_train: 2.1338 ; Loss: 4.5318\n",
            "Epoch[234] Loss_train: 2.1431 ; Loss: 4.4281\n",
            "Epoch[235] Loss_train: 2.1522 ; Loss: 4.2684\n",
            "..... Saving best weights ....\n",
            "Epoch[236] Loss_train: 2.1431 ; Loss: 4.4333\n",
            "Epoch[237] Loss_train: 2.0732 ; Loss: 4.6056\n",
            "Epoch[238] Loss_train: 2.0693 ; Loss: 4.1348\n",
            "..... Saving best weights ....\n",
            "Epoch[239] Loss_train: 1.9267 ; Loss: 4.0876\n",
            "..... Saving best weights ....\n",
            "Epoch[240] Loss_train: 1.9912 ; Loss: 4.4395\n",
            "Epoch[241] Loss_train: 1.9284 ; Loss: 4.5346\n",
            "Epoch[242] Loss_train: 1.9076 ; Loss: 4.2465\n",
            "Epoch[243] Loss_train: 1.8802 ; Loss: 4.5100\n",
            "Epoch[244] Loss_train: 1.8549 ; Loss: 4.1589\n",
            "Epoch[245] Loss_train: 1.8544 ; Loss: 4.0670\n",
            "..... Saving best weights ....\n",
            "Epoch[246] Loss_train: 1.7987 ; Loss: 4.4002\n",
            "Epoch[247] Loss_train: 1.7544 ; Loss: 4.1461\n",
            "Epoch[248] Loss_train: 1.6876 ; Loss: 4.0893\n",
            "Epoch[249] Loss_train: 1.7280 ; Loss: 4.1064\n",
            "Epoch[250] Loss_train: 1.7419 ; Loss: 3.9871\n",
            "..... Saving best weights ....\n",
            "Epoch[251] Loss_train: 1.6285 ; Loss: 3.9667\n",
            "..... Saving best weights ....\n",
            "Epoch[252] Loss_train: 1.6235 ; Loss: 3.9526\n",
            "..... Saving best weights ....\n",
            "Epoch[253] Loss_train: 1.6307 ; Loss: 3.9883\n",
            "Epoch[254] Loss_train: 1.5558 ; Loss: 4.2516\n",
            "Epoch[255] Loss_train: 1.5522 ; Loss: 4.1228\n",
            "Epoch[256] Loss_train: 1.5655 ; Loss: 4.1014\n",
            "Epoch[257] Loss_train: 1.5305 ; Loss: 4.1085\n",
            "Epoch[258] Loss_train: 1.5352 ; Loss: 3.9517\n",
            "..... Saving best weights ....\n",
            "Epoch[259] Loss_train: 1.4523 ; Loss: 4.1621\n",
            "Epoch[260] Loss_train: 1.4929 ; Loss: 3.9712\n",
            "Epoch[261] Loss_train: 1.4592 ; Loss: 4.0009\n",
            "Epoch[262] Loss_train: 1.4222 ; Loss: 4.0455\n",
            "Epoch[263] Loss_train: 1.3792 ; Loss: 3.9092\n",
            "..... Saving best weights ....\n",
            "Epoch[264] Loss_train: 1.3006 ; Loss: 3.9738\n",
            "Epoch[265] Loss_train: 1.4321 ; Loss: 3.8706\n",
            "..... Saving best weights ....\n",
            "Epoch[266] Loss_train: 1.3192 ; Loss: 3.8249\n",
            "..... Saving best weights ....\n",
            "Epoch[267] Loss_train: 1.3337 ; Loss: 4.0020\n",
            "Epoch[268] Loss_train: 1.3015 ; Loss: 3.9335\n",
            "Epoch[269] Loss_train: 1.3196 ; Loss: 3.8131\n",
            "..... Saving best weights ....\n",
            "Epoch[270] Loss_train: 1.3034 ; Loss: 4.0244\n",
            "Epoch[271] Loss_train: 1.2909 ; Loss: 3.8707\n",
            "Epoch[272] Loss_train: 1.2876 ; Loss: 3.8129\n",
            "..... Saving best weights ....\n",
            "Epoch[273] Loss_train: 1.2769 ; Loss: 4.0023\n",
            "Epoch[274] Loss_train: 1.2565 ; Loss: 3.9063\n",
            "Epoch[275] Loss_train: 1.2192 ; Loss: 4.0623\n",
            "Epoch[276] Loss_train: 1.2094 ; Loss: 3.8318\n",
            "Epoch[277] Loss_train: 1.1651 ; Loss: 3.7688\n",
            "..... Saving best weights ....\n",
            "Epoch[278] Loss_train: 1.1968 ; Loss: 3.9400\n",
            "Epoch[279] Loss_train: 1.2110 ; Loss: 3.8765\n",
            "Epoch[280] Loss_train: 1.1500 ; Loss: 4.0857\n",
            "Epoch[281] Loss_train: 1.1529 ; Loss: 3.7412\n",
            "..... Saving best weights ....\n",
            "Epoch[282] Loss_train: 1.1505 ; Loss: 3.8681\n",
            "Epoch[283] Loss_train: 1.1581 ; Loss: 3.9391\n",
            "Epoch[284] Loss_train: 1.1355 ; Loss: 3.7661\n",
            "Epoch[285] Loss_train: 1.1501 ; Loss: 3.8438\n",
            "Epoch[286] Loss_train: 1.0600 ; Loss: 3.9757\n",
            "Epoch[287] Loss_train: 1.1184 ; Loss: 4.0664\n",
            "Epoch[288] Loss_train: 1.0991 ; Loss: 4.1605\n",
            "Epoch[289] Loss_train: 1.0738 ; Loss: 3.8739\n",
            "Epoch[290] Loss_train: 1.1053 ; Loss: 3.7797\n",
            "Epoch[291] Loss_train: 1.0803 ; Loss: 3.8043\n",
            "Epoch[292] Loss_train: 1.0481 ; Loss: 3.8213\n",
            "Epoch[293] Loss_train: 1.0872 ; Loss: 4.1205\n",
            "Epoch[294] Loss_train: 1.0497 ; Loss: 3.8444\n",
            "Epoch[295] Loss_train: 1.0329 ; Loss: 3.8690\n",
            "Epoch[296] Loss_train: 1.0418 ; Loss: 4.0710\n",
            "Epoch[297] Loss_train: 1.0152 ; Loss: 4.1091\n",
            "Epoch[298] Loss_train: 0.9903 ; Loss: 4.1666\n",
            "Epoch[299] Loss_train: 1.0125 ; Loss: 3.7192\n",
            "..... Saving best weights ....\n",
            "Epoch[300] Loss_train: 1.0032 ; Loss: 3.7903\n"
          ]
        }
      ],
      "source": [
        "#addestramento, usato come discesa stocastica del gradiente come optimizer (SGD)\n",
        "learning_rate = 0.0001\n",
        "startEpoch = 200\n",
        "numEpochs = 300\n",
        "model = CNN(1).cuda()\n",
        "model.load_state_dict(torch.load('/content/drive/MyDrive/best_model_weights-c4.pth'))\n",
        "#model.eval()\n",
        "criterion = nn.L1Loss()\n",
        "index = 0\n",
        "best_loss = 5.1212\n",
        "optimizer = torch.optim.SGD(model.parameters(), lr=learning_rate)\n",
        "for epochs in range(startEpoch,numEpochs + 1):\n",
        "  modelLoss_train = 0.0\n",
        "  totalSize = 0\n",
        "  for _,inputs,target in dataloader_train:\n",
        "    optimizer.zero_grad()\n",
        "\n",
        "    #inputs = torch.unsqueeze(train_data.data[0], dim = 0)\n",
        "    inputs = inputs.type(torch.FloatTensor).requires_grad_().cuda()\n",
        "    target = target.cuda()\n",
        "    output = model(inputs)\n",
        "    #outp,preds = torch.max(output,1)\n",
        "    loss = criterion(output[0],target)\n",
        "\n",
        "    modelLoss_train += loss.item()*inputs.size(0)\n",
        "    totalSize += inputs.size(0)\n",
        "    #print(preds)\n",
        "    loss.backward()\n",
        "    optimizer.step()\n",
        "    index += 1\n",
        "\n",
        "  modelLoss_epoch_train = modelLoss_train/totalSize\n",
        "\n",
        "  #salvataggio stato\n",
        "  torch.save(model.state_dict(), '/train_weights.pth')\n",
        "  model.eval()\n",
        "\n",
        "  totalSize_val = 0\n",
        "  modelLoss_val = 0.0\n",
        "\n",
        "  for _,inputs,labels in dataloader_val:\n",
        "    #inputs = torch.unsqueeze(train_data.data[0], dim = 0)\n",
        "    inputs = inputs.type(torch.FloatTensor).requires_grad_().cuda()\n",
        "    labels = labels.cuda()\n",
        "    y = model(inputs)\n",
        "    #outp, preds = torch.max(y,1)\n",
        "    lossCNN = criterion(y[0],labels)\n",
        "\n",
        "    modelLoss_val += lossCNN.item()*inputs.size(0)\n",
        "    totalSize_val += inputs.size(0)\n",
        "\n",
        "  modelLoss_epoch_val = modelLoss_val/totalSize_val\n",
        "  print('Epoch[%d] Loss_train: %.4f ; Loss: %.4f'%(epochs, modelLoss_epoch_train, modelLoss_epoch_val));\n",
        "\n",
        "  if(modelLoss_epoch_val < best_loss and modelLoss_epoch_val>modelLoss_epoch_train):\n",
        "        print('..... Saving best weights ....')\n",
        "        best_loss = modelLoss_epoch_val\n",
        "        best_epoca = epochs\n",
        "\n",
        "        torch.save(model.state_dict(), '/content/drive/MyDrive/best_model_weights-c4.pth')\n",
        "\n",
        "  with open('/content/drive/MyDrive/TXT-4/lossVal.txt', \"a\") as file_object:\n",
        "        file_object.write(str(modelLoss_epoch_val)+ '\\n')\n",
        "\n",
        "  with open('/content/drive/MyDrive/TXT-4/lossTrain.txt', \"a\") as file_object:\n",
        "        file_object.write(str(modelLoss_epoch_train)+ '\\n')\n"
      ]
    },
    {
      "cell_type": "markdown",
      "source": [
        "# Printing results"
      ],
      "metadata": {
        "id": "g4nbZ1GfiDbz"
      }
    },
    {
      "cell_type": "code",
      "execution_count": null,
      "metadata": {
        "id": "WgloIGZUIgY7",
        "colab": {
          "base_uri": "https://localhost:8080/",
          "height": 472
        },
        "outputId": "5002ba9b-0f82-440b-cdf1-f624b3b7bd03"
      },
      "outputs": [
        {
          "output_type": "display_data",
          "data": {
            "text/plain": [
              "<Figure size 640x480 with 1 Axes>"
            ],
            "image/png": "[encoded data removed]"
          },
          "metadata": {}
        }
      ],
      "source": [
        "lossModel_Train = []\n",
        "lossModel_val = []\n",
        "\n",
        "WeightPath = '/content/drive/MyDrive/TXT-4/'\n",
        "file = open(WeightPath + 'lossTrain.txt', 'r')\n",
        "Testo = file.readlines()\n",
        "for element in Testo:\n",
        "  lossModel_Train.append(float(element))\n",
        "  file = open(WeightPath + 'lossVal.txt', 'r')\n",
        "  Testo = file.readlines()\n",
        "for element in Testo:\n",
        "  lossModel_val.append(float(element))\n",
        "plt.figure()\n",
        "plt.title(\"Model: Training Vs Validation Losses\")\n",
        "plt.xlabel('Epoch')\n",
        "plt.ylabel('Loss')\n",
        "plt.plot(list(range(1,len(lossModel_Train)+1)), lossModel_Train, color='r', label=\"Training Loss\")\n",
        "plt.plot(list(range(1, len(lossModel_val)+1)), lossModel_val, color='g', label=\"Validation Loss\")\n",
        "plt.legend()\n",
        "plt.savefig(WeightPath + 'LossTrainVal.png')"
      ]
    },
    {
      "cell_type": "markdown",
      "source": [
        "# Pretreat test"
      ],
      "metadata": {
        "id": "QvHkssQAiM0z"
      }
    },
    {
      "cell_type": "markdown",
      "source": [
        "we had other files which didn't have ages. Firstly we pretreat our test as we did for train and validation. Secondly we decided to create a dataset for test"
      ],
      "metadata": {
        "id": "GAL1ZS0kiTwd"
      }
    },
    {
      "cell_type": "code",
      "source": [
        "convert_tensor = transforms.ToTensor()\n",
        "imgs_data_test = []\n",
        "ids_test = []\n",
        "max = 1.2156\n",
        "\n",
        "for filename in os.listdir('/content/drive/MyDrive/data_test'):\n",
        "  imm = nib.load(os.path.join('/content/drive/MyDrive/data_test', filename)).get_fdata()\n",
        "  result1 = skTrans.resize(imm, (91,91,91), order=1, preserve_range=True)\n",
        "  imgs_data_test.append(convert_tensor(np.array(result1)/(max)))\n",
        "  ids_test.append(filename)"
      ],
      "metadata": {
        "id": "SAIFBFXaCWhR"
      },
      "execution_count": null,
      "outputs": []
    },
    {
      "cell_type": "code",
      "source": [
        "class MyDataTest(Dataset):\n",
        "  def __init__(self, id, data):\n",
        "    self.id = id\n",
        "    self.data = data\n",
        "  def __getitem__(self, index): #ricevo quando passo l'indice\n",
        "    x = self.id[index]\n",
        "    y = self.data[index]\n",
        "    return x, y\n",
        "  def __len__(self): #capire la lunghezza (num di righe, cioè num di pazienti) del dataset\n",
        "    return len(self.id) #basata su target perchè num età = num pazienti"
      ],
      "metadata": {
        "id": "lzngx9sUC_b_"
      },
      "execution_count": null,
      "outputs": []
    },
    {
      "cell_type": "code",
      "source": [
        "test_data = MyDataTest(ids_test, imgs_data_test)\n",
        "\n",
        "Batch_size = 1\n",
        "dataloader_test = DataLoader(test_data, batch_size=Batch_size)"
      ],
      "metadata": {
        "id": "bn25_0KhERw-"
      },
      "execution_count": null,
      "outputs": []
    },
    {
      "cell_type": "markdown",
      "source": [
        "# Loading weights"
      ],
      "metadata": {
        "id": "BIn_zF-Qi6qV"
      }
    },
    {
      "cell_type": "code",
      "source": [
        "model = CNN(1)\n",
        "model.load_state_dict(torch.load('/content/drive/MyDrive/best_model_weights-out00001-2.pth', map_location ='cpu'))"
      ],
      "metadata": {
        "colab": {
          "base_uri": "https://localhost:8080/"
        },
        "id": "VgcMfOw5EYVT",
        "outputId": "f50049fd-c008-496d-c637-7fa3758918e8"
      },
      "execution_count": null,
      "outputs": [
        {
          "output_type": "execute_result",
          "data": {
            "text/plain": [
              "<All keys matched successfully>"
            ]
          },
          "metadata": {},
          "execution_count": 8
        }
      ]
    },
    {
      "cell_type": "markdown",
      "source": [
        "# Extracting ages for test"
      ],
      "metadata": {
        "id": "NPgdeq3vi_7T"
      }
    },
    {
      "cell_type": "code",
      "source": [
        "Test = pd.DataFrame()\n",
        "for id, input in dataloader_test:\n",
        "  print('Working on '+ str(id))\n",
        "  input = input.type(torch.FloatTensor).requires_grad_()\n",
        "  y = model(input)\n",
        "  Test = Test.append({'ID': id, 'Age': y.item()}, ignore_index = True)"
      ],
      "metadata": {
        "colab": {
          "base_uri": "https://localhost:8080/"
        },
        "id": "9QCvlQmpEdL-",
        "outputId": "dd0253e3-abd6-432d-e7fa-73342d977a67"
      },
      "execution_count": null,
      "outputs": [
        {
          "output_type": "stream",
          "name": "stdout",
          "text": [
            "Working on ('rrssmrSub_0342_v00_T1.nii',)\n"
          ]
        },
        {
          "output_type": "stream",
          "name": "stderr",
          "text": [
            "<ipython-input-9-39b1b04a5fb3>:6: FutureWarning: The frame.append method is deprecated and will be removed from pandas in a future version. Use pandas.concat instead.\n",
            "  Test = Test.append({'ID': id, 'Age': y.item()}, ignore_index = True)\n"
          ]
        },
        {
          "output_type": "stream",
          "name": "stdout",
          "text": [
            "Working on ('rrssmrSub_0342_v03_T1.nii',)\n"
          ]
        },
        {
          "output_type": "stream",
          "name": "stderr",
          "text": [
            "<ipython-input-9-39b1b04a5fb3>:6: FutureWarning: The frame.append method is deprecated and will be removed from pandas in a future version. Use pandas.concat instead.\n",
            "  Test = Test.append({'ID': id, 'Age': y.item()}, ignore_index = True)\n"
          ]
        },
        {
          "output_type": "stream",
          "name": "stdout",
          "text": [
            "Working on ('rrssmrSub_0343_v00_T1.nii',)\n"
          ]
        },
        {
          "output_type": "stream",
          "name": "stderr",
          "text": [
            "<ipython-input-9-39b1b04a5fb3>:6: FutureWarning: The frame.append method is deprecated and will be removed from pandas in a future version. Use pandas.concat instead.\n",
            "  Test = Test.append({'ID': id, 'Age': y.item()}, ignore_index = True)\n"
          ]
        },
        {
          "output_type": "stream",
          "name": "stdout",
          "text": [
            "Working on ('rrssmrSub_0342_v04_T1.nii',)\n"
          ]
        },
        {
          "output_type": "stream",
          "name": "stderr",
          "text": [
            "<ipython-input-9-39b1b04a5fb3>:6: FutureWarning: The frame.append method is deprecated and will be removed from pandas in a future version. Use pandas.concat instead.\n",
            "  Test = Test.append({'ID': id, 'Age': y.item()}, ignore_index = True)\n"
          ]
        },
        {
          "output_type": "stream",
          "name": "stdout",
          "text": [
            "Working on ('rrssmrSub_0342_v01_T1.nii',)\n"
          ]
        },
        {
          "output_type": "stream",
          "name": "stderr",
          "text": [
            "<ipython-input-9-39b1b04a5fb3>:6: FutureWarning: The frame.append method is deprecated and will be removed from pandas in a future version. Use pandas.concat instead.\n",
            "  Test = Test.append({'ID': id, 'Age': y.item()}, ignore_index = True)\n"
          ]
        },
        {
          "output_type": "stream",
          "name": "stdout",
          "text": [
            "Working on ('rrssmrSub_0343_v01_T1.nii',)\n"
          ]
        },
        {
          "output_type": "stream",
          "name": "stderr",
          "text": [
            "<ipython-input-9-39b1b04a5fb3>:6: FutureWarning: The frame.append method is deprecated and will be removed from pandas in a future version. Use pandas.concat instead.\n",
            "  Test = Test.append({'ID': id, 'Age': y.item()}, ignore_index = True)\n"
          ]
        },
        {
          "output_type": "stream",
          "name": "stdout",
          "text": [
            "Working on ('rrssmrSub_0342_v02_T1.nii',)\n"
          ]
        },
        {
          "output_type": "stream",
          "name": "stderr",
          "text": [
            "<ipython-input-9-39b1b04a5fb3>:6: FutureWarning: The frame.append method is deprecated and will be removed from pandas in a future version. Use pandas.concat instead.\n",
            "  Test = Test.append({'ID': id, 'Age': y.item()}, ignore_index = True)\n"
          ]
        },
        {
          "output_type": "stream",
          "name": "stdout",
          "text": [
            "Working on ('rrssmrSub_0347_v00_T1.nii',)\n"
          ]
        },
        {
          "output_type": "stream",
          "name": "stderr",
          "text": [
            "<ipython-input-9-39b1b04a5fb3>:6: FutureWarning: The frame.append method is deprecated and will be removed from pandas in a future version. Use pandas.concat instead.\n",
            "  Test = Test.append({'ID': id, 'Age': y.item()}, ignore_index = True)\n"
          ]
        },
        {
          "output_type": "stream",
          "name": "stdout",
          "text": [
            "Working on ('rrssmrSub_0350_v01_T1.nii',)\n"
          ]
        },
        {
          "output_type": "stream",
          "name": "stderr",
          "text": [
            "<ipython-input-9-39b1b04a5fb3>:6: FutureWarning: The frame.append method is deprecated and will be removed from pandas in a future version. Use pandas.concat instead.\n",
            "  Test = Test.append({'ID': id, 'Age': y.item()}, ignore_index = True)\n"
          ]
        },
        {
          "output_type": "stream",
          "name": "stdout",
          "text": [
            "Working on ('rrssmrSub_0348_v00_T1.nii',)\n"
          ]
        },
        {
          "output_type": "stream",
          "name": "stderr",
          "text": [
            "<ipython-input-9-39b1b04a5fb3>:6: FutureWarning: The frame.append method is deprecated and will be removed from pandas in a future version. Use pandas.concat instead.\n",
            "  Test = Test.append({'ID': id, 'Age': y.item()}, ignore_index = True)\n"
          ]
        },
        {
          "output_type": "stream",
          "name": "stdout",
          "text": [
            "Working on ('rrssmrSub_0349_v01_T1.nii',)\n"
          ]
        },
        {
          "output_type": "stream",
          "name": "stderr",
          "text": [
            "<ipython-input-9-39b1b04a5fb3>:6: FutureWarning: The frame.append method is deprecated and will be removed from pandas in a future version. Use pandas.concat instead.\n",
            "  Test = Test.append({'ID': id, 'Age': y.item()}, ignore_index = True)\n"
          ]
        },
        {
          "output_type": "stream",
          "name": "stdout",
          "text": [
            "Working on ('rrssmrSub_0345_v00_T1.nii',)\n"
          ]
        },
        {
          "output_type": "stream",
          "name": "stderr",
          "text": [
            "<ipython-input-9-39b1b04a5fb3>:6: FutureWarning: The frame.append method is deprecated and will be removed from pandas in a future version. Use pandas.concat instead.\n",
            "  Test = Test.append({'ID': id, 'Age': y.item()}, ignore_index = True)\n"
          ]
        },
        {
          "output_type": "stream",
          "name": "stdout",
          "text": [
            "Working on ('rrssmrSub_0349_v00_T1.nii',)\n"
          ]
        },
        {
          "output_type": "stream",
          "name": "stderr",
          "text": [
            "<ipython-input-9-39b1b04a5fb3>:6: FutureWarning: The frame.append method is deprecated and will be removed from pandas in a future version. Use pandas.concat instead.\n",
            "  Test = Test.append({'ID': id, 'Age': y.item()}, ignore_index = True)\n"
          ]
        },
        {
          "output_type": "stream",
          "name": "stdout",
          "text": [
            "Working on ('rrssmrSub_0343_v02_T1.nii',)\n"
          ]
        },
        {
          "output_type": "stream",
          "name": "stderr",
          "text": [
            "<ipython-input-9-39b1b04a5fb3>:6: FutureWarning: The frame.append method is deprecated and will be removed from pandas in a future version. Use pandas.concat instead.\n",
            "  Test = Test.append({'ID': id, 'Age': y.item()}, ignore_index = True)\n"
          ]
        },
        {
          "output_type": "stream",
          "name": "stdout",
          "text": [
            "Working on ('rrssmrSub_0351_v00_T1.nii',)\n"
          ]
        },
        {
          "output_type": "stream",
          "name": "stderr",
          "text": [
            "<ipython-input-9-39b1b04a5fb3>:6: FutureWarning: The frame.append method is deprecated and will be removed from pandas in a future version. Use pandas.concat instead.\n",
            "  Test = Test.append({'ID': id, 'Age': y.item()}, ignore_index = True)\n"
          ]
        },
        {
          "output_type": "stream",
          "name": "stdout",
          "text": [
            "Working on ('rrssmrSub_0346_v00_T1.nii',)\n"
          ]
        },
        {
          "output_type": "stream",
          "name": "stderr",
          "text": [
            "<ipython-input-9-39b1b04a5fb3>:6: FutureWarning: The frame.append method is deprecated and will be removed from pandas in a future version. Use pandas.concat instead.\n",
            "  Test = Test.append({'ID': id, 'Age': y.item()}, ignore_index = True)\n"
          ]
        },
        {
          "output_type": "stream",
          "name": "stdout",
          "text": [
            "Working on ('rrssmrSub_0348_v01_T1.nii',)\n"
          ]
        },
        {
          "output_type": "stream",
          "name": "stderr",
          "text": [
            "<ipython-input-9-39b1b04a5fb3>:6: FutureWarning: The frame.append method is deprecated and will be removed from pandas in a future version. Use pandas.concat instead.\n",
            "  Test = Test.append({'ID': id, 'Age': y.item()}, ignore_index = True)\n"
          ]
        },
        {
          "output_type": "stream",
          "name": "stdout",
          "text": [
            "Working on ('rrssmrSub_0350_v00_T1.nii',)\n"
          ]
        },
        {
          "output_type": "stream",
          "name": "stderr",
          "text": [
            "<ipython-input-9-39b1b04a5fb3>:6: FutureWarning: The frame.append method is deprecated and will be removed from pandas in a future version. Use pandas.concat instead.\n",
            "  Test = Test.append({'ID': id, 'Age': y.item()}, ignore_index = True)\n"
          ]
        },
        {
          "output_type": "stream",
          "name": "stdout",
          "text": [
            "Working on ('rrssmrSub_0344_v00_T1.nii',)\n"
          ]
        },
        {
          "output_type": "stream",
          "name": "stderr",
          "text": [
            "<ipython-input-9-39b1b04a5fb3>:6: FutureWarning: The frame.append method is deprecated and will be removed from pandas in a future version. Use pandas.concat instead.\n",
            "  Test = Test.append({'ID': id, 'Age': y.item()}, ignore_index = True)\n"
          ]
        },
        {
          "output_type": "stream",
          "name": "stdout",
          "text": [
            "Working on ('rrssmrSub_0351_v03_T1.nii',)\n"
          ]
        },
        {
          "output_type": "stream",
          "name": "stderr",
          "text": [
            "<ipython-input-9-39b1b04a5fb3>:6: FutureWarning: The frame.append method is deprecated and will be removed from pandas in a future version. Use pandas.concat instead.\n",
            "  Test = Test.append({'ID': id, 'Age': y.item()}, ignore_index = True)\n"
          ]
        },
        {
          "output_type": "stream",
          "name": "stdout",
          "text": [
            "Working on ('rrssmrSub_0352_v03_T1.nii',)\n"
          ]
        },
        {
          "output_type": "stream",
          "name": "stderr",
          "text": [
            "<ipython-input-9-39b1b04a5fb3>:6: FutureWarning: The frame.append method is deprecated and will be removed from pandas in a future version. Use pandas.concat instead.\n",
            "  Test = Test.append({'ID': id, 'Age': y.item()}, ignore_index = True)\n"
          ]
        },
        {
          "output_type": "stream",
          "name": "stdout",
          "text": [
            "Working on ('rrssmrSub_0353_v00_T1.nii',)\n"
          ]
        },
        {
          "output_type": "stream",
          "name": "stderr",
          "text": [
            "<ipython-input-9-39b1b04a5fb3>:6: FutureWarning: The frame.append method is deprecated and will be removed from pandas in a future version. Use pandas.concat instead.\n",
            "  Test = Test.append({'ID': id, 'Age': y.item()}, ignore_index = True)\n"
          ]
        },
        {
          "output_type": "stream",
          "name": "stdout",
          "text": [
            "Working on ('rrssmrSub_0352_v05_T1.nii',)\n"
          ]
        },
        {
          "output_type": "stream",
          "name": "stderr",
          "text": [
            "<ipython-input-9-39b1b04a5fb3>:6: FutureWarning: The frame.append method is deprecated and will be removed from pandas in a future version. Use pandas.concat instead.\n",
            "  Test = Test.append({'ID': id, 'Age': y.item()}, ignore_index = True)\n"
          ]
        },
        {
          "output_type": "stream",
          "name": "stdout",
          "text": [
            "Working on ('rrssmrSub_0353_v01_T1.nii',)\n"
          ]
        },
        {
          "output_type": "stream",
          "name": "stderr",
          "text": [
            "<ipython-input-9-39b1b04a5fb3>:6: FutureWarning: The frame.append method is deprecated and will be removed from pandas in a future version. Use pandas.concat instead.\n",
            "  Test = Test.append({'ID': id, 'Age': y.item()}, ignore_index = True)\n"
          ]
        },
        {
          "output_type": "stream",
          "name": "stdout",
          "text": [
            "Working on ('rrssmrSub_0352_v04_T1.nii',)\n"
          ]
        },
        {
          "output_type": "stream",
          "name": "stderr",
          "text": [
            "<ipython-input-9-39b1b04a5fb3>:6: FutureWarning: The frame.append method is deprecated and will be removed from pandas in a future version. Use pandas.concat instead.\n",
            "  Test = Test.append({'ID': id, 'Age': y.item()}, ignore_index = True)\n"
          ]
        },
        {
          "output_type": "stream",
          "name": "stdout",
          "text": [
            "Working on ('rrssmrSub_0353_v03_T1.nii',)\n"
          ]
        },
        {
          "output_type": "stream",
          "name": "stderr",
          "text": [
            "<ipython-input-9-39b1b04a5fb3>:6: FutureWarning: The frame.append method is deprecated and will be removed from pandas in a future version. Use pandas.concat instead.\n",
            "  Test = Test.append({'ID': id, 'Age': y.item()}, ignore_index = True)\n"
          ]
        },
        {
          "output_type": "stream",
          "name": "stdout",
          "text": [
            "Working on ('rrssmrSub_0352_v01_T1.nii',)\n"
          ]
        },
        {
          "output_type": "stream",
          "name": "stderr",
          "text": [
            "<ipython-input-9-39b1b04a5fb3>:6: FutureWarning: The frame.append method is deprecated and will be removed from pandas in a future version. Use pandas.concat instead.\n",
            "  Test = Test.append({'ID': id, 'Age': y.item()}, ignore_index = True)\n"
          ]
        },
        {
          "output_type": "stream",
          "name": "stdout",
          "text": [
            "Working on ('rrssmrSub_0353_v04_T1.nii',)\n"
          ]
        },
        {
          "output_type": "stream",
          "name": "stderr",
          "text": [
            "<ipython-input-9-39b1b04a5fb3>:6: FutureWarning: The frame.append method is deprecated and will be removed from pandas in a future version. Use pandas.concat instead.\n",
            "  Test = Test.append({'ID': id, 'Age': y.item()}, ignore_index = True)\n"
          ]
        },
        {
          "output_type": "stream",
          "name": "stdout",
          "text": [
            "Working on ('rrssmrSub_0352_v02_T1.nii',)\n"
          ]
        },
        {
          "output_type": "stream",
          "name": "stderr",
          "text": [
            "<ipython-input-9-39b1b04a5fb3>:6: FutureWarning: The frame.append method is deprecated and will be removed from pandas in a future version. Use pandas.concat instead.\n",
            "  Test = Test.append({'ID': id, 'Age': y.item()}, ignore_index = True)\n"
          ]
        },
        {
          "output_type": "stream",
          "name": "stdout",
          "text": [
            "Working on ('rrssmrSub_0352_v00_T1.nii',)\n"
          ]
        },
        {
          "output_type": "stream",
          "name": "stderr",
          "text": [
            "<ipython-input-9-39b1b04a5fb3>:6: FutureWarning: The frame.append method is deprecated and will be removed from pandas in a future version. Use pandas.concat instead.\n",
            "  Test = Test.append({'ID': id, 'Age': y.item()}, ignore_index = True)\n"
          ]
        },
        {
          "output_type": "stream",
          "name": "stdout",
          "text": [
            "Working on ('rrssmrSub_0351_v04_T1.nii',)\n"
          ]
        },
        {
          "output_type": "stream",
          "name": "stderr",
          "text": [
            "<ipython-input-9-39b1b04a5fb3>:6: FutureWarning: The frame.append method is deprecated and will be removed from pandas in a future version. Use pandas.concat instead.\n",
            "  Test = Test.append({'ID': id, 'Age': y.item()}, ignore_index = True)\n"
          ]
        },
        {
          "output_type": "stream",
          "name": "stdout",
          "text": [
            "Working on ('rrssmrSub_0351_v02_T1.nii',)\n"
          ]
        },
        {
          "output_type": "stream",
          "name": "stderr",
          "text": [
            "<ipython-input-9-39b1b04a5fb3>:6: FutureWarning: The frame.append method is deprecated and will be removed from pandas in a future version. Use pandas.concat instead.\n",
            "  Test = Test.append({'ID': id, 'Age': y.item()}, ignore_index = True)\n"
          ]
        },
        {
          "output_type": "stream",
          "name": "stdout",
          "text": [
            "Working on ('rrssmrSub_0353_v02_T1.nii',)\n"
          ]
        },
        {
          "output_type": "stream",
          "name": "stderr",
          "text": [
            "<ipython-input-9-39b1b04a5fb3>:6: FutureWarning: The frame.append method is deprecated and will be removed from pandas in a future version. Use pandas.concat instead.\n",
            "  Test = Test.append({'ID': id, 'Age': y.item()}, ignore_index = True)\n"
          ]
        },
        {
          "output_type": "stream",
          "name": "stdout",
          "text": [
            "Working on ('rrssmrSub_0352_v06_T1.nii',)\n"
          ]
        },
        {
          "output_type": "stream",
          "name": "stderr",
          "text": [
            "<ipython-input-9-39b1b04a5fb3>:6: FutureWarning: The frame.append method is deprecated and will be removed from pandas in a future version. Use pandas.concat instead.\n",
            "  Test = Test.append({'ID': id, 'Age': y.item()}, ignore_index = True)\n"
          ]
        },
        {
          "output_type": "stream",
          "name": "stdout",
          "text": [
            "Working on ('rrssmrSub_0352_v07_T1.nii',)\n"
          ]
        },
        {
          "output_type": "stream",
          "name": "stderr",
          "text": [
            "<ipython-input-9-39b1b04a5fb3>:6: FutureWarning: The frame.append method is deprecated and will be removed from pandas in a future version. Use pandas.concat instead.\n",
            "  Test = Test.append({'ID': id, 'Age': y.item()}, ignore_index = True)\n"
          ]
        },
        {
          "output_type": "stream",
          "name": "stdout",
          "text": [
            "Working on ('rrssmrSub_0351_v01_T1.nii',)\n"
          ]
        },
        {
          "output_type": "stream",
          "name": "stderr",
          "text": [
            "<ipython-input-9-39b1b04a5fb3>:6: FutureWarning: The frame.append method is deprecated and will be removed from pandas in a future version. Use pandas.concat instead.\n",
            "  Test = Test.append({'ID': id, 'Age': y.item()}, ignore_index = True)\n"
          ]
        },
        {
          "output_type": "stream",
          "name": "stdout",
          "text": [
            "Working on ('rrssmrSub_0356_v02_T1.nii',)\n"
          ]
        },
        {
          "output_type": "stream",
          "name": "stderr",
          "text": [
            "<ipython-input-9-39b1b04a5fb3>:6: FutureWarning: The frame.append method is deprecated and will be removed from pandas in a future version. Use pandas.concat instead.\n",
            "  Test = Test.append({'ID': id, 'Age': y.item()}, ignore_index = True)\n"
          ]
        },
        {
          "output_type": "stream",
          "name": "stdout",
          "text": [
            "Working on ('rrssmrSub_0359_v00_T1.nii',)\n"
          ]
        },
        {
          "output_type": "stream",
          "name": "stderr",
          "text": [
            "<ipython-input-9-39b1b04a5fb3>:6: FutureWarning: The frame.append method is deprecated and will be removed from pandas in a future version. Use pandas.concat instead.\n",
            "  Test = Test.append({'ID': id, 'Age': y.item()}, ignore_index = True)\n"
          ]
        },
        {
          "output_type": "stream",
          "name": "stdout",
          "text": [
            "Working on ('rrssmrSub_0355_v02_T1.nii',)\n"
          ]
        },
        {
          "output_type": "stream",
          "name": "stderr",
          "text": [
            "<ipython-input-9-39b1b04a5fb3>:6: FutureWarning: The frame.append method is deprecated and will be removed from pandas in a future version. Use pandas.concat instead.\n",
            "  Test = Test.append({'ID': id, 'Age': y.item()}, ignore_index = True)\n"
          ]
        },
        {
          "output_type": "stream",
          "name": "stdout",
          "text": [
            "Working on ('rrssmrSub_0355_v04_T1.nii',)\n"
          ]
        },
        {
          "output_type": "stream",
          "name": "stderr",
          "text": [
            "<ipython-input-9-39b1b04a5fb3>:6: FutureWarning: The frame.append method is deprecated and will be removed from pandas in a future version. Use pandas.concat instead.\n",
            "  Test = Test.append({'ID': id, 'Age': y.item()}, ignore_index = True)\n"
          ]
        },
        {
          "output_type": "stream",
          "name": "stdout",
          "text": [
            "Working on ('rrssmrSub_0360_v00_T1.nii',)\n"
          ]
        },
        {
          "output_type": "stream",
          "name": "stderr",
          "text": [
            "<ipython-input-9-39b1b04a5fb3>:6: FutureWarning: The frame.append method is deprecated and will be removed from pandas in a future version. Use pandas.concat instead.\n",
            "  Test = Test.append({'ID': id, 'Age': y.item()}, ignore_index = True)\n"
          ]
        },
        {
          "output_type": "stream",
          "name": "stdout",
          "text": [
            "Working on ('rrssmrSub_0359_v01_T1.nii',)\n"
          ]
        },
        {
          "output_type": "stream",
          "name": "stderr",
          "text": [
            "<ipython-input-9-39b1b04a5fb3>:6: FutureWarning: The frame.append method is deprecated and will be removed from pandas in a future version. Use pandas.concat instead.\n",
            "  Test = Test.append({'ID': id, 'Age': y.item()}, ignore_index = True)\n"
          ]
        },
        {
          "output_type": "stream",
          "name": "stdout",
          "text": [
            "Working on ('rrssmrSub_0355_v03_T1.nii',)\n"
          ]
        },
        {
          "output_type": "stream",
          "name": "stderr",
          "text": [
            "<ipython-input-9-39b1b04a5fb3>:6: FutureWarning: The frame.append method is deprecated and will be removed from pandas in a future version. Use pandas.concat instead.\n",
            "  Test = Test.append({'ID': id, 'Age': y.item()}, ignore_index = True)\n"
          ]
        },
        {
          "output_type": "stream",
          "name": "stdout",
          "text": [
            "Working on ('rrssmrSub_0355_v00_T1.nii',)\n"
          ]
        },
        {
          "output_type": "stream",
          "name": "stderr",
          "text": [
            "<ipython-input-9-39b1b04a5fb3>:6: FutureWarning: The frame.append method is deprecated and will be removed from pandas in a future version. Use pandas.concat instead.\n",
            "  Test = Test.append({'ID': id, 'Age': y.item()}, ignore_index = True)\n"
          ]
        },
        {
          "output_type": "stream",
          "name": "stdout",
          "text": [
            "Working on ('rrssmrSub_0358_v01_T1.nii',)\n"
          ]
        },
        {
          "output_type": "stream",
          "name": "stderr",
          "text": [
            "<ipython-input-9-39b1b04a5fb3>:6: FutureWarning: The frame.append method is deprecated and will be removed from pandas in a future version. Use pandas.concat instead.\n",
            "  Test = Test.append({'ID': id, 'Age': y.item()}, ignore_index = True)\n"
          ]
        },
        {
          "output_type": "stream",
          "name": "stdout",
          "text": [
            "Working on ('rrssmrSub_0357_v00_T1.nii',)\n"
          ]
        },
        {
          "output_type": "stream",
          "name": "stderr",
          "text": [
            "<ipython-input-9-39b1b04a5fb3>:6: FutureWarning: The frame.append method is deprecated and will be removed from pandas in a future version. Use pandas.concat instead.\n",
            "  Test = Test.append({'ID': id, 'Age': y.item()}, ignore_index = True)\n"
          ]
        },
        {
          "output_type": "stream",
          "name": "stdout",
          "text": [
            "Working on ('rrssmrSub_0358_v00_T1.nii',)\n"
          ]
        },
        {
          "output_type": "stream",
          "name": "stderr",
          "text": [
            "<ipython-input-9-39b1b04a5fb3>:6: FutureWarning: The frame.append method is deprecated and will be removed from pandas in a future version. Use pandas.concat instead.\n",
            "  Test = Test.append({'ID': id, 'Age': y.item()}, ignore_index = True)\n"
          ]
        },
        {
          "output_type": "stream",
          "name": "stdout",
          "text": [
            "Working on ('rrssmrSub_0354_v00_T1.nii',)\n"
          ]
        },
        {
          "output_type": "stream",
          "name": "stderr",
          "text": [
            "<ipython-input-9-39b1b04a5fb3>:6: FutureWarning: The frame.append method is deprecated and will be removed from pandas in a future version. Use pandas.concat instead.\n",
            "  Test = Test.append({'ID': id, 'Age': y.item()}, ignore_index = True)\n"
          ]
        },
        {
          "output_type": "stream",
          "name": "stdout",
          "text": [
            "Working on ('rrssmrSub_0356_v01_T1.nii',)\n"
          ]
        },
        {
          "output_type": "stream",
          "name": "stderr",
          "text": [
            "<ipython-input-9-39b1b04a5fb3>:6: FutureWarning: The frame.append method is deprecated and will be removed from pandas in a future version. Use pandas.concat instead.\n",
            "  Test = Test.append({'ID': id, 'Age': y.item()}, ignore_index = True)\n"
          ]
        },
        {
          "output_type": "stream",
          "name": "stdout",
          "text": [
            "Working on ('rrssmrSub_0356_v00_T1.nii',)\n"
          ]
        },
        {
          "output_type": "stream",
          "name": "stderr",
          "text": [
            "<ipython-input-9-39b1b04a5fb3>:6: FutureWarning: The frame.append method is deprecated and will be removed from pandas in a future version. Use pandas.concat instead.\n",
            "  Test = Test.append({'ID': id, 'Age': y.item()}, ignore_index = True)\n"
          ]
        },
        {
          "output_type": "stream",
          "name": "stdout",
          "text": [
            "Working on ('rrssmrSub_0356_v03_T1.nii',)\n"
          ]
        },
        {
          "output_type": "stream",
          "name": "stderr",
          "text": [
            "<ipython-input-9-39b1b04a5fb3>:6: FutureWarning: The frame.append method is deprecated and will be removed from pandas in a future version. Use pandas.concat instead.\n",
            "  Test = Test.append({'ID': id, 'Age': y.item()}, ignore_index = True)\n"
          ]
        },
        {
          "output_type": "stream",
          "name": "stdout",
          "text": [
            "Working on ('rrssmrSub_0355_v01_T1.nii',)\n"
          ]
        },
        {
          "output_type": "stream",
          "name": "stderr",
          "text": [
            "<ipython-input-9-39b1b04a5fb3>:6: FutureWarning: The frame.append method is deprecated and will be removed from pandas in a future version. Use pandas.concat instead.\n",
            "  Test = Test.append({'ID': id, 'Age': y.item()}, ignore_index = True)\n"
          ]
        },
        {
          "output_type": "stream",
          "name": "stdout",
          "text": [
            "Working on ('rrssmrSub_0370_v00_T1.nii',)\n"
          ]
        },
        {
          "output_type": "stream",
          "name": "stderr",
          "text": [
            "<ipython-input-9-39b1b04a5fb3>:6: FutureWarning: The frame.append method is deprecated and will be removed from pandas in a future version. Use pandas.concat instead.\n",
            "  Test = Test.append({'ID': id, 'Age': y.item()}, ignore_index = True)\n"
          ]
        },
        {
          "output_type": "stream",
          "name": "stdout",
          "text": [
            "Working on ('rrssmrSub_0368_v00_T1.nii',)\n"
          ]
        },
        {
          "output_type": "stream",
          "name": "stderr",
          "text": [
            "<ipython-input-9-39b1b04a5fb3>:6: FutureWarning: The frame.append method is deprecated and will be removed from pandas in a future version. Use pandas.concat instead.\n",
            "  Test = Test.append({'ID': id, 'Age': y.item()}, ignore_index = True)\n"
          ]
        },
        {
          "output_type": "stream",
          "name": "stdout",
          "text": [
            "Working on ('rrssmrSub_0367_v00_T1.nii',)\n"
          ]
        },
        {
          "output_type": "stream",
          "name": "stderr",
          "text": [
            "<ipython-input-9-39b1b04a5fb3>:6: FutureWarning: The frame.append method is deprecated and will be removed from pandas in a future version. Use pandas.concat instead.\n",
            "  Test = Test.append({'ID': id, 'Age': y.item()}, ignore_index = True)\n"
          ]
        },
        {
          "output_type": "stream",
          "name": "stdout",
          "text": [
            "Working on ('rrssmrSub_0363_v03_T1.nii',)\n"
          ]
        },
        {
          "output_type": "stream",
          "name": "stderr",
          "text": [
            "<ipython-input-9-39b1b04a5fb3>:6: FutureWarning: The frame.append method is deprecated and will be removed from pandas in a future version. Use pandas.concat instead.\n",
            "  Test = Test.append({'ID': id, 'Age': y.item()}, ignore_index = True)\n"
          ]
        },
        {
          "output_type": "stream",
          "name": "stdout",
          "text": [
            "Working on ('rrssmrSub_0369_v00_T1.nii',)\n"
          ]
        },
        {
          "output_type": "stream",
          "name": "stderr",
          "text": [
            "<ipython-input-9-39b1b04a5fb3>:6: FutureWarning: The frame.append method is deprecated and will be removed from pandas in a future version. Use pandas.concat instead.\n",
            "  Test = Test.append({'ID': id, 'Age': y.item()}, ignore_index = True)\n"
          ]
        },
        {
          "output_type": "stream",
          "name": "stdout",
          "text": [
            "Working on ('rrssmrSub_0361_v00_T1.nii',)\n"
          ]
        },
        {
          "output_type": "stream",
          "name": "stderr",
          "text": [
            "<ipython-input-9-39b1b04a5fb3>:6: FutureWarning: The frame.append method is deprecated and will be removed from pandas in a future version. Use pandas.concat instead.\n",
            "  Test = Test.append({'ID': id, 'Age': y.item()}, ignore_index = True)\n"
          ]
        },
        {
          "output_type": "stream",
          "name": "stdout",
          "text": [
            "Working on ('rrssmrSub_0363_v00_T1.nii',)\n"
          ]
        },
        {
          "output_type": "stream",
          "name": "stderr",
          "text": [
            "<ipython-input-9-39b1b04a5fb3>:6: FutureWarning: The frame.append method is deprecated and will be removed from pandas in a future version. Use pandas.concat instead.\n",
            "  Test = Test.append({'ID': id, 'Age': y.item()}, ignore_index = True)\n"
          ]
        },
        {
          "output_type": "stream",
          "name": "stdout",
          "text": [
            "Working on ('rrssmrSub_0366_v00_T1.nii',)\n"
          ]
        },
        {
          "output_type": "stream",
          "name": "stderr",
          "text": [
            "<ipython-input-9-39b1b04a5fb3>:6: FutureWarning: The frame.append method is deprecated and will be removed from pandas in a future version. Use pandas.concat instead.\n",
            "  Test = Test.append({'ID': id, 'Age': y.item()}, ignore_index = True)\n"
          ]
        },
        {
          "output_type": "stream",
          "name": "stdout",
          "text": [
            "Working on ('rrssmrSub_0362_v02_T1.nii',)\n"
          ]
        },
        {
          "output_type": "stream",
          "name": "stderr",
          "text": [
            "<ipython-input-9-39b1b04a5fb3>:6: FutureWarning: The frame.append method is deprecated and will be removed from pandas in a future version. Use pandas.concat instead.\n",
            "  Test = Test.append({'ID': id, 'Age': y.item()}, ignore_index = True)\n"
          ]
        },
        {
          "output_type": "stream",
          "name": "stdout",
          "text": [
            "Working on ('rrssmrSub_0364_v00_T1.nii',)\n"
          ]
        },
        {
          "output_type": "stream",
          "name": "stderr",
          "text": [
            "<ipython-input-9-39b1b04a5fb3>:6: FutureWarning: The frame.append method is deprecated and will be removed from pandas in a future version. Use pandas.concat instead.\n",
            "  Test = Test.append({'ID': id, 'Age': y.item()}, ignore_index = True)\n"
          ]
        },
        {
          "output_type": "stream",
          "name": "stdout",
          "text": [
            "Working on ('rrssmrSub_0363_v05_T1.nii',)\n"
          ]
        },
        {
          "output_type": "stream",
          "name": "stderr",
          "text": [
            "<ipython-input-9-39b1b04a5fb3>:6: FutureWarning: The frame.append method is deprecated and will be removed from pandas in a future version. Use pandas.concat instead.\n",
            "  Test = Test.append({'ID': id, 'Age': y.item()}, ignore_index = True)\n"
          ]
        },
        {
          "output_type": "stream",
          "name": "stdout",
          "text": [
            "Working on ('rrssmrSub_0363_v02_T1.nii',)\n"
          ]
        },
        {
          "output_type": "stream",
          "name": "stderr",
          "text": [
            "<ipython-input-9-39b1b04a5fb3>:6: FutureWarning: The frame.append method is deprecated and will be removed from pandas in a future version. Use pandas.concat instead.\n",
            "  Test = Test.append({'ID': id, 'Age': y.item()}, ignore_index = True)\n"
          ]
        },
        {
          "output_type": "stream",
          "name": "stdout",
          "text": [
            "Working on ('rrssmrSub_0362_v00_T1.nii',)\n"
          ]
        },
        {
          "output_type": "stream",
          "name": "stderr",
          "text": [
            "<ipython-input-9-39b1b04a5fb3>:6: FutureWarning: The frame.append method is deprecated and will be removed from pandas in a future version. Use pandas.concat instead.\n",
            "  Test = Test.append({'ID': id, 'Age': y.item()}, ignore_index = True)\n"
          ]
        },
        {
          "output_type": "stream",
          "name": "stdout",
          "text": [
            "Working on ('rrssmrSub_0362_v01_T1.nii',)\n"
          ]
        },
        {
          "output_type": "stream",
          "name": "stderr",
          "text": [
            "<ipython-input-9-39b1b04a5fb3>:6: FutureWarning: The frame.append method is deprecated and will be removed from pandas in a future version. Use pandas.concat instead.\n",
            "  Test = Test.append({'ID': id, 'Age': y.item()}, ignore_index = True)\n"
          ]
        },
        {
          "output_type": "stream",
          "name": "stdout",
          "text": [
            "Working on ('rrssmrSub_0365_v00_T1.nii',)\n"
          ]
        },
        {
          "output_type": "stream",
          "name": "stderr",
          "text": [
            "<ipython-input-9-39b1b04a5fb3>:6: FutureWarning: The frame.append method is deprecated and will be removed from pandas in a future version. Use pandas.concat instead.\n",
            "  Test = Test.append({'ID': id, 'Age': y.item()}, ignore_index = True)\n"
          ]
        },
        {
          "output_type": "stream",
          "name": "stdout",
          "text": [
            "Working on ('rrssmrSub_0363_v01_T1.nii',)\n"
          ]
        },
        {
          "output_type": "stream",
          "name": "stderr",
          "text": [
            "<ipython-input-9-39b1b04a5fb3>:6: FutureWarning: The frame.append method is deprecated and will be removed from pandas in a future version. Use pandas.concat instead.\n",
            "  Test = Test.append({'ID': id, 'Age': y.item()}, ignore_index = True)\n"
          ]
        },
        {
          "output_type": "stream",
          "name": "stdout",
          "text": [
            "Working on ('rrssmrSub_0363_v04_T1.nii',)\n"
          ]
        },
        {
          "output_type": "stream",
          "name": "stderr",
          "text": [
            "<ipython-input-9-39b1b04a5fb3>:6: FutureWarning: The frame.append method is deprecated and will be removed from pandas in a future version. Use pandas.concat instead.\n",
            "  Test = Test.append({'ID': id, 'Age': y.item()}, ignore_index = True)\n"
          ]
        },
        {
          "output_type": "stream",
          "name": "stdout",
          "text": [
            "Working on ('rrssmrSub_0371_v00_T1.nii',)\n"
          ]
        },
        {
          "output_type": "stream",
          "name": "stderr",
          "text": [
            "<ipython-input-9-39b1b04a5fb3>:6: FutureWarning: The frame.append method is deprecated and will be removed from pandas in a future version. Use pandas.concat instead.\n",
            "  Test = Test.append({'ID': id, 'Age': y.item()}, ignore_index = True)\n"
          ]
        },
        {
          "output_type": "stream",
          "name": "stdout",
          "text": [
            "Working on ('rrssmrSub_0372_v00_T1.nii',)\n"
          ]
        },
        {
          "output_type": "stream",
          "name": "stderr",
          "text": [
            "<ipython-input-9-39b1b04a5fb3>:6: FutureWarning: The frame.append method is deprecated and will be removed from pandas in a future version. Use pandas.concat instead.\n",
            "  Test = Test.append({'ID': id, 'Age': y.item()}, ignore_index = True)\n"
          ]
        },
        {
          "output_type": "stream",
          "name": "stdout",
          "text": [
            "Working on ('rrssmrSub_0376_v03_T1.nii',)\n"
          ]
        },
        {
          "output_type": "stream",
          "name": "stderr",
          "text": [
            "<ipython-input-9-39b1b04a5fb3>:6: FutureWarning: The frame.append method is deprecated and will be removed from pandas in a future version. Use pandas.concat instead.\n",
            "  Test = Test.append({'ID': id, 'Age': y.item()}, ignore_index = True)\n"
          ]
        },
        {
          "output_type": "stream",
          "name": "stdout",
          "text": [
            "Working on ('rrssmrSub_0371_v01_T1.nii',)\n"
          ]
        },
        {
          "output_type": "stream",
          "name": "stderr",
          "text": [
            "<ipython-input-9-39b1b04a5fb3>:6: FutureWarning: The frame.append method is deprecated and will be removed from pandas in a future version. Use pandas.concat instead.\n",
            "  Test = Test.append({'ID': id, 'Age': y.item()}, ignore_index = True)\n"
          ]
        },
        {
          "output_type": "stream",
          "name": "stdout",
          "text": [
            "Working on ('rrssmrSub_0376_v01_T1.nii',)\n"
          ]
        },
        {
          "output_type": "stream",
          "name": "stderr",
          "text": [
            "<ipython-input-9-39b1b04a5fb3>:6: FutureWarning: The frame.append method is deprecated and will be removed from pandas in a future version. Use pandas.concat instead.\n",
            "  Test = Test.append({'ID': id, 'Age': y.item()}, ignore_index = True)\n"
          ]
        },
        {
          "output_type": "stream",
          "name": "stdout",
          "text": [
            "Working on ('rrssmrSub_0373_v01_T1.nii',)\n"
          ]
        },
        {
          "output_type": "stream",
          "name": "stderr",
          "text": [
            "<ipython-input-9-39b1b04a5fb3>:6: FutureWarning: The frame.append method is deprecated and will be removed from pandas in a future version. Use pandas.concat instead.\n",
            "  Test = Test.append({'ID': id, 'Age': y.item()}, ignore_index = True)\n"
          ]
        },
        {
          "output_type": "stream",
          "name": "stdout",
          "text": [
            "Working on ('rrssmrSub_0376_v02_T1.nii',)\n"
          ]
        },
        {
          "output_type": "stream",
          "name": "stderr",
          "text": [
            "<ipython-input-9-39b1b04a5fb3>:6: FutureWarning: The frame.append method is deprecated and will be removed from pandas in a future version. Use pandas.concat instead.\n",
            "  Test = Test.append({'ID': id, 'Age': y.item()}, ignore_index = True)\n"
          ]
        },
        {
          "output_type": "stream",
          "name": "stdout",
          "text": [
            "Working on ('rrssmrSub_0376_v00_T1.nii',)\n"
          ]
        },
        {
          "output_type": "stream",
          "name": "stderr",
          "text": [
            "<ipython-input-9-39b1b04a5fb3>:6: FutureWarning: The frame.append method is deprecated and will be removed from pandas in a future version. Use pandas.concat instead.\n",
            "  Test = Test.append({'ID': id, 'Age': y.item()}, ignore_index = True)\n"
          ]
        },
        {
          "output_type": "stream",
          "name": "stdout",
          "text": [
            "Working on ('rrssmrSub_0372_v01_T1.nii',)\n"
          ]
        },
        {
          "output_type": "stream",
          "name": "stderr",
          "text": [
            "<ipython-input-9-39b1b04a5fb3>:6: FutureWarning: The frame.append method is deprecated and will be removed from pandas in a future version. Use pandas.concat instead.\n",
            "  Test = Test.append({'ID': id, 'Age': y.item()}, ignore_index = True)\n"
          ]
        },
        {
          "output_type": "stream",
          "name": "stdout",
          "text": [
            "Working on ('rrssmrSub_0370_v01_T1.nii',)\n"
          ]
        },
        {
          "output_type": "stream",
          "name": "stderr",
          "text": [
            "<ipython-input-9-39b1b04a5fb3>:6: FutureWarning: The frame.append method is deprecated and will be removed from pandas in a future version. Use pandas.concat instead.\n",
            "  Test = Test.append({'ID': id, 'Age': y.item()}, ignore_index = True)\n"
          ]
        },
        {
          "output_type": "stream",
          "name": "stdout",
          "text": [
            "Working on ('rrssmrSub_0373_v00_T1.nii',)\n"
          ]
        },
        {
          "output_type": "stream",
          "name": "stderr",
          "text": [
            "<ipython-input-9-39b1b04a5fb3>:6: FutureWarning: The frame.append method is deprecated and will be removed from pandas in a future version. Use pandas.concat instead.\n",
            "  Test = Test.append({'ID': id, 'Age': y.item()}, ignore_index = True)\n"
          ]
        },
        {
          "output_type": "stream",
          "name": "stdout",
          "text": [
            "Working on ('rrssmrSub_0377_v00_T1.nii',)\n"
          ]
        },
        {
          "output_type": "stream",
          "name": "stderr",
          "text": [
            "<ipython-input-9-39b1b04a5fb3>:6: FutureWarning: The frame.append method is deprecated and will be removed from pandas in a future version. Use pandas.concat instead.\n",
            "  Test = Test.append({'ID': id, 'Age': y.item()}, ignore_index = True)\n"
          ]
        },
        {
          "output_type": "stream",
          "name": "stdout",
          "text": [
            "Working on ('rrssmrSub_0375_v00_T1.nii',)\n"
          ]
        },
        {
          "output_type": "stream",
          "name": "stderr",
          "text": [
            "<ipython-input-9-39b1b04a5fb3>:6: FutureWarning: The frame.append method is deprecated and will be removed from pandas in a future version. Use pandas.concat instead.\n",
            "  Test = Test.append({'ID': id, 'Age': y.item()}, ignore_index = True)\n"
          ]
        },
        {
          "output_type": "stream",
          "name": "stdout",
          "text": [
            "Working on ('rrssmrSub_0378_v02_T1.nii',)\n"
          ]
        },
        {
          "output_type": "stream",
          "name": "stderr",
          "text": [
            "<ipython-input-9-39b1b04a5fb3>:6: FutureWarning: The frame.append method is deprecated and will be removed from pandas in a future version. Use pandas.concat instead.\n",
            "  Test = Test.append({'ID': id, 'Age': y.item()}, ignore_index = True)\n"
          ]
        },
        {
          "output_type": "stream",
          "name": "stdout",
          "text": [
            "Working on ('rrssmrSub_0378_v01_T1.nii',)\n"
          ]
        },
        {
          "output_type": "stream",
          "name": "stderr",
          "text": [
            "<ipython-input-9-39b1b04a5fb3>:6: FutureWarning: The frame.append method is deprecated and will be removed from pandas in a future version. Use pandas.concat instead.\n",
            "  Test = Test.append({'ID': id, 'Age': y.item()}, ignore_index = True)\n"
          ]
        },
        {
          "output_type": "stream",
          "name": "stdout",
          "text": [
            "Working on ('rrssmrSub_0374_v00_T1.nii',)\n"
          ]
        },
        {
          "output_type": "stream",
          "name": "stderr",
          "text": [
            "<ipython-input-9-39b1b04a5fb3>:6: FutureWarning: The frame.append method is deprecated and will be removed from pandas in a future version. Use pandas.concat instead.\n",
            "  Test = Test.append({'ID': id, 'Age': y.item()}, ignore_index = True)\n"
          ]
        },
        {
          "output_type": "stream",
          "name": "stdout",
          "text": [
            "Working on ('rrssmrSub_0378_v00_T1.nii',)\n"
          ]
        },
        {
          "output_type": "stream",
          "name": "stderr",
          "text": [
            "<ipython-input-9-39b1b04a5fb3>:6: FutureWarning: The frame.append method is deprecated and will be removed from pandas in a future version. Use pandas.concat instead.\n",
            "  Test = Test.append({'ID': id, 'Age': y.item()}, ignore_index = True)\n"
          ]
        },
        {
          "output_type": "stream",
          "name": "stdout",
          "text": [
            "Working on ('rrssmrSub_0382_v00_T1.nii',)\n"
          ]
        },
        {
          "output_type": "stream",
          "name": "stderr",
          "text": [
            "<ipython-input-9-39b1b04a5fb3>:6: FutureWarning: The frame.append method is deprecated and will be removed from pandas in a future version. Use pandas.concat instead.\n",
            "  Test = Test.append({'ID': id, 'Age': y.item()}, ignore_index = True)\n"
          ]
        },
        {
          "output_type": "stream",
          "name": "stdout",
          "text": [
            "Working on ('rrssmrSub_0379_v04_T1.nii',)\n"
          ]
        },
        {
          "output_type": "stream",
          "name": "stderr",
          "text": [
            "<ipython-input-9-39b1b04a5fb3>:6: FutureWarning: The frame.append method is deprecated and will be removed from pandas in a future version. Use pandas.concat instead.\n",
            "  Test = Test.append({'ID': id, 'Age': y.item()}, ignore_index = True)\n"
          ]
        },
        {
          "output_type": "stream",
          "name": "stdout",
          "text": [
            "Working on ('rrssmrSub_0379_v02_T1.nii',)\n"
          ]
        },
        {
          "output_type": "stream",
          "name": "stderr",
          "text": [
            "<ipython-input-9-39b1b04a5fb3>:6: FutureWarning: The frame.append method is deprecated and will be removed from pandas in a future version. Use pandas.concat instead.\n",
            "  Test = Test.append({'ID': id, 'Age': y.item()}, ignore_index = True)\n"
          ]
        },
        {
          "output_type": "stream",
          "name": "stdout",
          "text": [
            "Working on ('rrssmrSub_0381_v05_T1.nii',)\n"
          ]
        },
        {
          "output_type": "stream",
          "name": "stderr",
          "text": [
            "<ipython-input-9-39b1b04a5fb3>:6: FutureWarning: The frame.append method is deprecated and will be removed from pandas in a future version. Use pandas.concat instead.\n",
            "  Test = Test.append({'ID': id, 'Age': y.item()}, ignore_index = True)\n"
          ]
        },
        {
          "output_type": "stream",
          "name": "stdout",
          "text": [
            "Working on ('rrssmrSub_0381_v00_T1.nii',)\n"
          ]
        },
        {
          "output_type": "stream",
          "name": "stderr",
          "text": [
            "<ipython-input-9-39b1b04a5fb3>:6: FutureWarning: The frame.append method is deprecated and will be removed from pandas in a future version. Use pandas.concat instead.\n",
            "  Test = Test.append({'ID': id, 'Age': y.item()}, ignore_index = True)\n"
          ]
        },
        {
          "output_type": "stream",
          "name": "stdout",
          "text": [
            "Working on ('rrssmrSub_0379_v01_T1.nii',)\n"
          ]
        },
        {
          "output_type": "stream",
          "name": "stderr",
          "text": [
            "<ipython-input-9-39b1b04a5fb3>:6: FutureWarning: The frame.append method is deprecated and will be removed from pandas in a future version. Use pandas.concat instead.\n",
            "  Test = Test.append({'ID': id, 'Age': y.item()}, ignore_index = True)\n"
          ]
        },
        {
          "output_type": "stream",
          "name": "stdout",
          "text": [
            "Working on ('rrssmrSub_0378_v03_T1.nii',)\n"
          ]
        },
        {
          "output_type": "stream",
          "name": "stderr",
          "text": [
            "<ipython-input-9-39b1b04a5fb3>:6: FutureWarning: The frame.append method is deprecated and will be removed from pandas in a future version. Use pandas.concat instead.\n",
            "  Test = Test.append({'ID': id, 'Age': y.item()}, ignore_index = True)\n"
          ]
        },
        {
          "output_type": "stream",
          "name": "stdout",
          "text": [
            "Working on ('rrssmrSub_0381_v01_T1.nii',)\n"
          ]
        },
        {
          "output_type": "stream",
          "name": "stderr",
          "text": [
            "<ipython-input-9-39b1b04a5fb3>:6: FutureWarning: The frame.append method is deprecated and will be removed from pandas in a future version. Use pandas.concat instead.\n",
            "  Test = Test.append({'ID': id, 'Age': y.item()}, ignore_index = True)\n"
          ]
        },
        {
          "output_type": "stream",
          "name": "stdout",
          "text": [
            "Working on ('rrssmrSub_0381_v02_T1.nii',)\n"
          ]
        },
        {
          "output_type": "stream",
          "name": "stderr",
          "text": [
            "<ipython-input-9-39b1b04a5fb3>:6: FutureWarning: The frame.append method is deprecated and will be removed from pandas in a future version. Use pandas.concat instead.\n",
            "  Test = Test.append({'ID': id, 'Age': y.item()}, ignore_index = True)\n"
          ]
        },
        {
          "output_type": "stream",
          "name": "stdout",
          "text": [
            "Working on ('rrssmrSub_0381_v03_T1.nii',)\n"
          ]
        },
        {
          "output_type": "stream",
          "name": "stderr",
          "text": [
            "<ipython-input-9-39b1b04a5fb3>:6: FutureWarning: The frame.append method is deprecated and will be removed from pandas in a future version. Use pandas.concat instead.\n",
            "  Test = Test.append({'ID': id, 'Age': y.item()}, ignore_index = True)\n"
          ]
        },
        {
          "output_type": "stream",
          "name": "stdout",
          "text": [
            "Working on ('rrssmrSub_0379_v03_T1.nii',)\n"
          ]
        },
        {
          "output_type": "stream",
          "name": "stderr",
          "text": [
            "<ipython-input-9-39b1b04a5fb3>:6: FutureWarning: The frame.append method is deprecated and will be removed from pandas in a future version. Use pandas.concat instead.\n",
            "  Test = Test.append({'ID': id, 'Age': y.item()}, ignore_index = True)\n"
          ]
        },
        {
          "output_type": "stream",
          "name": "stdout",
          "text": [
            "Working on ('rrssmrSub_0379_v00_T1.nii',)\n"
          ]
        },
        {
          "output_type": "stream",
          "name": "stderr",
          "text": [
            "<ipython-input-9-39b1b04a5fb3>:6: FutureWarning: The frame.append method is deprecated and will be removed from pandas in a future version. Use pandas.concat instead.\n",
            "  Test = Test.append({'ID': id, 'Age': y.item()}, ignore_index = True)\n"
          ]
        },
        {
          "output_type": "stream",
          "name": "stdout",
          "text": [
            "Working on ('rrssmrSub_0381_v04_T1.nii',)\n"
          ]
        },
        {
          "output_type": "stream",
          "name": "stderr",
          "text": [
            "<ipython-input-9-39b1b04a5fb3>:6: FutureWarning: The frame.append method is deprecated and will be removed from pandas in a future version. Use pandas.concat instead.\n",
            "  Test = Test.append({'ID': id, 'Age': y.item()}, ignore_index = True)\n"
          ]
        },
        {
          "output_type": "stream",
          "name": "stdout",
          "text": [
            "Working on ('rrssmrSub_0383_v00_T1.nii',)\n"
          ]
        },
        {
          "output_type": "stream",
          "name": "stderr",
          "text": [
            "<ipython-input-9-39b1b04a5fb3>:6: FutureWarning: The frame.append method is deprecated and will be removed from pandas in a future version. Use pandas.concat instead.\n",
            "  Test = Test.append({'ID': id, 'Age': y.item()}, ignore_index = True)\n"
          ]
        },
        {
          "output_type": "stream",
          "name": "stdout",
          "text": [
            "Working on ('rrssmrSub_0378_v04_T1.nii',)\n"
          ]
        },
        {
          "output_type": "stream",
          "name": "stderr",
          "text": [
            "<ipython-input-9-39b1b04a5fb3>:6: FutureWarning: The frame.append method is deprecated and will be removed from pandas in a future version. Use pandas.concat instead.\n",
            "  Test = Test.append({'ID': id, 'Age': y.item()}, ignore_index = True)\n"
          ]
        },
        {
          "output_type": "stream",
          "name": "stdout",
          "text": [
            "Working on ('rrssmrSub_0380_v00_T1.nii',)\n"
          ]
        },
        {
          "output_type": "stream",
          "name": "stderr",
          "text": [
            "<ipython-input-9-39b1b04a5fb3>:6: FutureWarning: The frame.append method is deprecated and will be removed from pandas in a future version. Use pandas.concat instead.\n",
            "  Test = Test.append({'ID': id, 'Age': y.item()}, ignore_index = True)\n"
          ]
        },
        {
          "output_type": "stream",
          "name": "stdout",
          "text": [
            "Working on ('rrssmrSub_0386_v00_T1.nii',)\n"
          ]
        },
        {
          "output_type": "stream",
          "name": "stderr",
          "text": [
            "<ipython-input-9-39b1b04a5fb3>:6: FutureWarning: The frame.append method is deprecated and will be removed from pandas in a future version. Use pandas.concat instead.\n",
            "  Test = Test.append({'ID': id, 'Age': y.item()}, ignore_index = True)\n"
          ]
        },
        {
          "output_type": "stream",
          "name": "stdout",
          "text": [
            "Working on ('rrssmrSub_0385_v00_T1.nii',)\n"
          ]
        },
        {
          "output_type": "stream",
          "name": "stderr",
          "text": [
            "<ipython-input-9-39b1b04a5fb3>:6: FutureWarning: The frame.append method is deprecated and will be removed from pandas in a future version. Use pandas.concat instead.\n",
            "  Test = Test.append({'ID': id, 'Age': y.item()}, ignore_index = True)\n"
          ]
        },
        {
          "output_type": "stream",
          "name": "stdout",
          "text": [
            "Working on ('rrssmrSub_0383_v01_T1.nii',)\n"
          ]
        },
        {
          "output_type": "stream",
          "name": "stderr",
          "text": [
            "<ipython-input-9-39b1b04a5fb3>:6: FutureWarning: The frame.append method is deprecated and will be removed from pandas in a future version. Use pandas.concat instead.\n",
            "  Test = Test.append({'ID': id, 'Age': y.item()}, ignore_index = True)\n"
          ]
        },
        {
          "output_type": "stream",
          "name": "stdout",
          "text": [
            "Working on ('rrssmrSub_0384_v00_T1.nii',)\n"
          ]
        },
        {
          "output_type": "stream",
          "name": "stderr",
          "text": [
            "<ipython-input-9-39b1b04a5fb3>:6: FutureWarning: The frame.append method is deprecated and will be removed from pandas in a future version. Use pandas.concat instead.\n",
            "  Test = Test.append({'ID': id, 'Age': y.item()}, ignore_index = True)\n"
          ]
        },
        {
          "output_type": "stream",
          "name": "stdout",
          "text": [
            "Working on ('rrssmrSub_0387_v00_T1.nii',)\n"
          ]
        },
        {
          "output_type": "stream",
          "name": "stderr",
          "text": [
            "<ipython-input-9-39b1b04a5fb3>:6: FutureWarning: The frame.append method is deprecated and will be removed from pandas in a future version. Use pandas.concat instead.\n",
            "  Test = Test.append({'ID': id, 'Age': y.item()}, ignore_index = True)\n"
          ]
        },
        {
          "output_type": "stream",
          "name": "stdout",
          "text": [
            "Working on ('rrssmrSub_0386_v04_T1.nii',)\n"
          ]
        },
        {
          "output_type": "stream",
          "name": "stderr",
          "text": [
            "<ipython-input-9-39b1b04a5fb3>:6: FutureWarning: The frame.append method is deprecated and will be removed from pandas in a future version. Use pandas.concat instead.\n",
            "  Test = Test.append({'ID': id, 'Age': y.item()}, ignore_index = True)\n"
          ]
        },
        {
          "output_type": "stream",
          "name": "stdout",
          "text": [
            "Working on ('rrssmrSub_0386_v03_T1.nii',)\n"
          ]
        },
        {
          "output_type": "stream",
          "name": "stderr",
          "text": [
            "<ipython-input-9-39b1b04a5fb3>:6: FutureWarning: The frame.append method is deprecated and will be removed from pandas in a future version. Use pandas.concat instead.\n",
            "  Test = Test.append({'ID': id, 'Age': y.item()}, ignore_index = True)\n"
          ]
        },
        {
          "output_type": "stream",
          "name": "stdout",
          "text": [
            "Working on ('rrssmrSub_0386_v02_T1.nii',)\n"
          ]
        },
        {
          "output_type": "stream",
          "name": "stderr",
          "text": [
            "<ipython-input-9-39b1b04a5fb3>:6: FutureWarning: The frame.append method is deprecated and will be removed from pandas in a future version. Use pandas.concat instead.\n",
            "  Test = Test.append({'ID': id, 'Age': y.item()}, ignore_index = True)\n"
          ]
        },
        {
          "output_type": "stream",
          "name": "stdout",
          "text": [
            "Working on ('rrssmrSub_0386_v01_T1.nii',)\n"
          ]
        },
        {
          "output_type": "stream",
          "name": "stderr",
          "text": [
            "<ipython-input-9-39b1b04a5fb3>:6: FutureWarning: The frame.append method is deprecated and will be removed from pandas in a future version. Use pandas.concat instead.\n",
            "  Test = Test.append({'ID': id, 'Age': y.item()}, ignore_index = True)\n"
          ]
        },
        {
          "output_type": "stream",
          "name": "stdout",
          "text": [
            "Working on ('rrssmrSub_0389_v02_T1.nii',)\n"
          ]
        },
        {
          "output_type": "stream",
          "name": "stderr",
          "text": [
            "<ipython-input-9-39b1b04a5fb3>:6: FutureWarning: The frame.append method is deprecated and will be removed from pandas in a future version. Use pandas.concat instead.\n",
            "  Test = Test.append({'ID': id, 'Age': y.item()}, ignore_index = True)\n"
          ]
        },
        {
          "output_type": "stream",
          "name": "stdout",
          "text": [
            "Working on ('rrssmrSub_0389_v01_T1.nii',)\n"
          ]
        },
        {
          "output_type": "stream",
          "name": "stderr",
          "text": [
            "<ipython-input-9-39b1b04a5fb3>:6: FutureWarning: The frame.append method is deprecated and will be removed from pandas in a future version. Use pandas.concat instead.\n",
            "  Test = Test.append({'ID': id, 'Age': y.item()}, ignore_index = True)\n"
          ]
        },
        {
          "output_type": "stream",
          "name": "stdout",
          "text": [
            "Working on ('rrssmrSub_0389_v00_T1.nii',)\n"
          ]
        },
        {
          "output_type": "stream",
          "name": "stderr",
          "text": [
            "<ipython-input-9-39b1b04a5fb3>:6: FutureWarning: The frame.append method is deprecated and will be removed from pandas in a future version. Use pandas.concat instead.\n",
            "  Test = Test.append({'ID': id, 'Age': y.item()}, ignore_index = True)\n"
          ]
        },
        {
          "output_type": "stream",
          "name": "stdout",
          "text": [
            "Working on ('rrssmrSub_0388_v00_T1.nii',)\n"
          ]
        },
        {
          "output_type": "stream",
          "name": "stderr",
          "text": [
            "<ipython-input-9-39b1b04a5fb3>:6: FutureWarning: The frame.append method is deprecated and will be removed from pandas in a future version. Use pandas.concat instead.\n",
            "  Test = Test.append({'ID': id, 'Age': y.item()}, ignore_index = True)\n"
          ]
        },
        {
          "output_type": "stream",
          "name": "stdout",
          "text": [
            "Working on ('rrssmrSub_0390_v02_T1.nii',)\n"
          ]
        },
        {
          "output_type": "stream",
          "name": "stderr",
          "text": [
            "<ipython-input-9-39b1b04a5fb3>:6: FutureWarning: The frame.append method is deprecated and will be removed from pandas in a future version. Use pandas.concat instead.\n",
            "  Test = Test.append({'ID': id, 'Age': y.item()}, ignore_index = True)\n"
          ]
        },
        {
          "output_type": "stream",
          "name": "stdout",
          "text": [
            "Working on ('rrssmrSub_0390_v01_T1.nii',)\n"
          ]
        },
        {
          "output_type": "stream",
          "name": "stderr",
          "text": [
            "<ipython-input-9-39b1b04a5fb3>:6: FutureWarning: The frame.append method is deprecated and will be removed from pandas in a future version. Use pandas.concat instead.\n",
            "  Test = Test.append({'ID': id, 'Age': y.item()}, ignore_index = True)\n"
          ]
        },
        {
          "output_type": "stream",
          "name": "stdout",
          "text": [
            "Working on ('rrssmrSub_0390_v00_T1.nii',)\n"
          ]
        },
        {
          "output_type": "stream",
          "name": "stderr",
          "text": [
            "<ipython-input-9-39b1b04a5fb3>:6: FutureWarning: The frame.append method is deprecated and will be removed from pandas in a future version. Use pandas.concat instead.\n",
            "  Test = Test.append({'ID': id, 'Age': y.item()}, ignore_index = True)\n"
          ]
        },
        {
          "output_type": "stream",
          "name": "stdout",
          "text": [
            "Working on ('rrssmrSub_0391_v01_T1.nii',)\n"
          ]
        },
        {
          "output_type": "stream",
          "name": "stderr",
          "text": [
            "<ipython-input-9-39b1b04a5fb3>:6: FutureWarning: The frame.append method is deprecated and will be removed from pandas in a future version. Use pandas.concat instead.\n",
            "  Test = Test.append({'ID': id, 'Age': y.item()}, ignore_index = True)\n"
          ]
        },
        {
          "output_type": "stream",
          "name": "stdout",
          "text": [
            "Working on ('rrssmrSub_0391_v00_T1.nii',)\n"
          ]
        },
        {
          "output_type": "stream",
          "name": "stderr",
          "text": [
            "<ipython-input-9-39b1b04a5fb3>:6: FutureWarning: The frame.append method is deprecated and will be removed from pandas in a future version. Use pandas.concat instead.\n",
            "  Test = Test.append({'ID': id, 'Age': y.item()}, ignore_index = True)\n"
          ]
        },
        {
          "output_type": "stream",
          "name": "stdout",
          "text": [
            "Working on ('rrssmrSub_0390_v04_T1.nii',)\n"
          ]
        },
        {
          "output_type": "stream",
          "name": "stderr",
          "text": [
            "<ipython-input-9-39b1b04a5fb3>:6: FutureWarning: The frame.append method is deprecated and will be removed from pandas in a future version. Use pandas.concat instead.\n",
            "  Test = Test.append({'ID': id, 'Age': y.item()}, ignore_index = True)\n"
          ]
        },
        {
          "output_type": "stream",
          "name": "stdout",
          "text": [
            "Working on ('rrssmrSub_0390_v03_T1.nii',)\n"
          ]
        },
        {
          "output_type": "stream",
          "name": "stderr",
          "text": [
            "<ipython-input-9-39b1b04a5fb3>:6: FutureWarning: The frame.append method is deprecated and will be removed from pandas in a future version. Use pandas.concat instead.\n",
            "  Test = Test.append({'ID': id, 'Age': y.item()}, ignore_index = True)\n"
          ]
        },
        {
          "output_type": "stream",
          "name": "stdout",
          "text": [
            "Working on ('rrssmrSub_0392_v02_T1.nii',)\n"
          ]
        },
        {
          "output_type": "stream",
          "name": "stderr",
          "text": [
            "<ipython-input-9-39b1b04a5fb3>:6: FutureWarning: The frame.append method is deprecated and will be removed from pandas in a future version. Use pandas.concat instead.\n",
            "  Test = Test.append({'ID': id, 'Age': y.item()}, ignore_index = True)\n"
          ]
        },
        {
          "output_type": "stream",
          "name": "stdout",
          "text": [
            "Working on ('rrssmrSub_0392_v01_T1.nii',)\n"
          ]
        },
        {
          "output_type": "stream",
          "name": "stderr",
          "text": [
            "<ipython-input-9-39b1b04a5fb3>:6: FutureWarning: The frame.append method is deprecated and will be removed from pandas in a future version. Use pandas.concat instead.\n",
            "  Test = Test.append({'ID': id, 'Age': y.item()}, ignore_index = True)\n"
          ]
        },
        {
          "output_type": "stream",
          "name": "stdout",
          "text": [
            "Working on ('rrssmrSub_0392_v00_T1.nii',)\n"
          ]
        },
        {
          "output_type": "stream",
          "name": "stderr",
          "text": [
            "<ipython-input-9-39b1b04a5fb3>:6: FutureWarning: The frame.append method is deprecated and will be removed from pandas in a future version. Use pandas.concat instead.\n",
            "  Test = Test.append({'ID': id, 'Age': y.item()}, ignore_index = True)\n"
          ]
        },
        {
          "output_type": "stream",
          "name": "stdout",
          "text": [
            "Working on ('rrssmrSub_0391_v02_T1.nii',)\n"
          ]
        },
        {
          "output_type": "stream",
          "name": "stderr",
          "text": [
            "<ipython-input-9-39b1b04a5fb3>:6: FutureWarning: The frame.append method is deprecated and will be removed from pandas in a future version. Use pandas.concat instead.\n",
            "  Test = Test.append({'ID': id, 'Age': y.item()}, ignore_index = True)\n"
          ]
        },
        {
          "output_type": "stream",
          "name": "stdout",
          "text": [
            "Working on ('rrssmrSub_0393_v00_T1.nii',)\n"
          ]
        },
        {
          "output_type": "stream",
          "name": "stderr",
          "text": [
            "<ipython-input-9-39b1b04a5fb3>:6: FutureWarning: The frame.append method is deprecated and will be removed from pandas in a future version. Use pandas.concat instead.\n",
            "  Test = Test.append({'ID': id, 'Age': y.item()}, ignore_index = True)\n"
          ]
        },
        {
          "output_type": "stream",
          "name": "stdout",
          "text": [
            "Working on ('rrssmrSub_0392_v04_T1.nii',)\n"
          ]
        },
        {
          "output_type": "stream",
          "name": "stderr",
          "text": [
            "<ipython-input-9-39b1b04a5fb3>:6: FutureWarning: The frame.append method is deprecated and will be removed from pandas in a future version. Use pandas.concat instead.\n",
            "  Test = Test.append({'ID': id, 'Age': y.item()}, ignore_index = True)\n"
          ]
        },
        {
          "output_type": "stream",
          "name": "stdout",
          "text": [
            "Working on ('rrssmrSub_0392_v03_T1.nii',)\n"
          ]
        },
        {
          "output_type": "stream",
          "name": "stderr",
          "text": [
            "<ipython-input-9-39b1b04a5fb3>:6: FutureWarning: The frame.append method is deprecated and will be removed from pandas in a future version. Use pandas.concat instead.\n",
            "  Test = Test.append({'ID': id, 'Age': y.item()}, ignore_index = True)\n"
          ]
        },
        {
          "output_type": "stream",
          "name": "stdout",
          "text": [
            "Working on ('rrssmrSub_0396_v00_T1.nii',)\n"
          ]
        },
        {
          "output_type": "stream",
          "name": "stderr",
          "text": [
            "<ipython-input-9-39b1b04a5fb3>:6: FutureWarning: The frame.append method is deprecated and will be removed from pandas in a future version. Use pandas.concat instead.\n",
            "  Test = Test.append({'ID': id, 'Age': y.item()}, ignore_index = True)\n"
          ]
        },
        {
          "output_type": "stream",
          "name": "stdout",
          "text": [
            "Working on ('rrssmrSub_0395_v00_T1.nii',)\n"
          ]
        },
        {
          "output_type": "stream",
          "name": "stderr",
          "text": [
            "<ipython-input-9-39b1b04a5fb3>:6: FutureWarning: The frame.append method is deprecated and will be removed from pandas in a future version. Use pandas.concat instead.\n",
            "  Test = Test.append({'ID': id, 'Age': y.item()}, ignore_index = True)\n"
          ]
        },
        {
          "output_type": "stream",
          "name": "stdout",
          "text": [
            "Working on ('rrssmrSub_0394_v01_T1.nii',)\n"
          ]
        },
        {
          "output_type": "stream",
          "name": "stderr",
          "text": [
            "<ipython-input-9-39b1b04a5fb3>:6: FutureWarning: The frame.append method is deprecated and will be removed from pandas in a future version. Use pandas.concat instead.\n",
            "  Test = Test.append({'ID': id, 'Age': y.item()}, ignore_index = True)\n"
          ]
        },
        {
          "output_type": "stream",
          "name": "stdout",
          "text": [
            "Working on ('rrssmrSub_0394_v00_T1.nii',)\n"
          ]
        },
        {
          "output_type": "stream",
          "name": "stderr",
          "text": [
            "<ipython-input-9-39b1b04a5fb3>:6: FutureWarning: The frame.append method is deprecated and will be removed from pandas in a future version. Use pandas.concat instead.\n",
            "  Test = Test.append({'ID': id, 'Age': y.item()}, ignore_index = True)\n"
          ]
        },
        {
          "output_type": "stream",
          "name": "stdout",
          "text": [
            "Working on ('rrssmrSub_0398_v01_T1.nii',)\n"
          ]
        },
        {
          "output_type": "stream",
          "name": "stderr",
          "text": [
            "<ipython-input-9-39b1b04a5fb3>:6: FutureWarning: The frame.append method is deprecated and will be removed from pandas in a future version. Use pandas.concat instead.\n",
            "  Test = Test.append({'ID': id, 'Age': y.item()}, ignore_index = True)\n"
          ]
        },
        {
          "output_type": "stream",
          "name": "stdout",
          "text": [
            "Working on ('rrssmrSub_0398_v00_T1.nii',)\n"
          ]
        },
        {
          "output_type": "stream",
          "name": "stderr",
          "text": [
            "<ipython-input-9-39b1b04a5fb3>:6: FutureWarning: The frame.append method is deprecated and will be removed from pandas in a future version. Use pandas.concat instead.\n",
            "  Test = Test.append({'ID': id, 'Age': y.item()}, ignore_index = True)\n"
          ]
        },
        {
          "output_type": "stream",
          "name": "stdout",
          "text": [
            "Working on ('rrssmrSub_0397_v01_T1.nii',)\n"
          ]
        },
        {
          "output_type": "stream",
          "name": "stderr",
          "text": [
            "<ipython-input-9-39b1b04a5fb3>:6: FutureWarning: The frame.append method is deprecated and will be removed from pandas in a future version. Use pandas.concat instead.\n",
            "  Test = Test.append({'ID': id, 'Age': y.item()}, ignore_index = True)\n"
          ]
        },
        {
          "output_type": "stream",
          "name": "stdout",
          "text": [
            "Working on ('rrssmrSub_0397_v00_T1.nii',)\n"
          ]
        },
        {
          "output_type": "stream",
          "name": "stderr",
          "text": [
            "<ipython-input-9-39b1b04a5fb3>:6: FutureWarning: The frame.append method is deprecated and will be removed from pandas in a future version. Use pandas.concat instead.\n",
            "  Test = Test.append({'ID': id, 'Age': y.item()}, ignore_index = True)\n"
          ]
        },
        {
          "output_type": "stream",
          "name": "stdout",
          "text": [
            "Working on ('rrssmrSub_0398_v04_T1.nii',)\n"
          ]
        },
        {
          "output_type": "stream",
          "name": "stderr",
          "text": [
            "<ipython-input-9-39b1b04a5fb3>:6: FutureWarning: The frame.append method is deprecated and will be removed from pandas in a future version. Use pandas.concat instead.\n",
            "  Test = Test.append({'ID': id, 'Age': y.item()}, ignore_index = True)\n"
          ]
        },
        {
          "output_type": "stream",
          "name": "stdout",
          "text": [
            "Working on ('rrssmrSub_0398_v03_T1.nii',)\n"
          ]
        },
        {
          "output_type": "stream",
          "name": "stderr",
          "text": [
            "<ipython-input-9-39b1b04a5fb3>:6: FutureWarning: The frame.append method is deprecated and will be removed from pandas in a future version. Use pandas.concat instead.\n",
            "  Test = Test.append({'ID': id, 'Age': y.item()}, ignore_index = True)\n"
          ]
        },
        {
          "output_type": "stream",
          "name": "stdout",
          "text": [
            "Working on ('rrssmrSub_0398_v02_T1.nii',)\n"
          ]
        },
        {
          "output_type": "stream",
          "name": "stderr",
          "text": [
            "<ipython-input-9-39b1b04a5fb3>:6: FutureWarning: The frame.append method is deprecated and will be removed from pandas in a future version. Use pandas.concat instead.\n",
            "  Test = Test.append({'ID': id, 'Age': y.item()}, ignore_index = True)\n"
          ]
        },
        {
          "output_type": "stream",
          "name": "stdout",
          "text": [
            "Working on ('rrssmrSub_0399_v02_T1.nii',)\n"
          ]
        },
        {
          "output_type": "stream",
          "name": "stderr",
          "text": [
            "<ipython-input-9-39b1b04a5fb3>:6: FutureWarning: The frame.append method is deprecated and will be removed from pandas in a future version. Use pandas.concat instead.\n",
            "  Test = Test.append({'ID': id, 'Age': y.item()}, ignore_index = True)\n"
          ]
        },
        {
          "output_type": "stream",
          "name": "stdout",
          "text": [
            "Working on ('rrssmrSub_0399_v01_T1.nii',)\n"
          ]
        },
        {
          "output_type": "stream",
          "name": "stderr",
          "text": [
            "<ipython-input-9-39b1b04a5fb3>:6: FutureWarning: The frame.append method is deprecated and will be removed from pandas in a future version. Use pandas.concat instead.\n",
            "  Test = Test.append({'ID': id, 'Age': y.item()}, ignore_index = True)\n"
          ]
        },
        {
          "output_type": "stream",
          "name": "stdout",
          "text": [
            "Working on ('rrssmrSub_0399_v00_T1.nii',)\n"
          ]
        },
        {
          "output_type": "stream",
          "name": "stderr",
          "text": [
            "<ipython-input-9-39b1b04a5fb3>:6: FutureWarning: The frame.append method is deprecated and will be removed from pandas in a future version. Use pandas.concat instead.\n",
            "  Test = Test.append({'ID': id, 'Age': y.item()}, ignore_index = True)\n"
          ]
        },
        {
          "output_type": "stream",
          "name": "stdout",
          "text": [
            "Working on ('rrssmrSub_0401_v01_T1.nii',)\n"
          ]
        },
        {
          "output_type": "stream",
          "name": "stderr",
          "text": [
            "<ipython-input-9-39b1b04a5fb3>:6: FutureWarning: The frame.append method is deprecated and will be removed from pandas in a future version. Use pandas.concat instead.\n",
            "  Test = Test.append({'ID': id, 'Age': y.item()}, ignore_index = True)\n"
          ]
        },
        {
          "output_type": "stream",
          "name": "stdout",
          "text": [
            "Working on ('rrssmrSub_0401_v00_T1.nii',)\n"
          ]
        },
        {
          "output_type": "stream",
          "name": "stderr",
          "text": [
            "<ipython-input-9-39b1b04a5fb3>:6: FutureWarning: The frame.append method is deprecated and will be removed from pandas in a future version. Use pandas.concat instead.\n",
            "  Test = Test.append({'ID': id, 'Age': y.item()}, ignore_index = True)\n"
          ]
        },
        {
          "output_type": "stream",
          "name": "stdout",
          "text": [
            "Working on ('rrssmrSub_0400_v00_T1.nii',)\n"
          ]
        },
        {
          "output_type": "stream",
          "name": "stderr",
          "text": [
            "<ipython-input-9-39b1b04a5fb3>:6: FutureWarning: The frame.append method is deprecated and will be removed from pandas in a future version. Use pandas.concat instead.\n",
            "  Test = Test.append({'ID': id, 'Age': y.item()}, ignore_index = True)\n"
          ]
        },
        {
          "output_type": "stream",
          "name": "stdout",
          "text": [
            "Working on ('rrssmrSub_0399_v03_T1.nii',)\n"
          ]
        },
        {
          "output_type": "stream",
          "name": "stderr",
          "text": [
            "<ipython-input-9-39b1b04a5fb3>:6: FutureWarning: The frame.append method is deprecated and will be removed from pandas in a future version. Use pandas.concat instead.\n",
            "  Test = Test.append({'ID': id, 'Age': y.item()}, ignore_index = True)\n"
          ]
        },
        {
          "output_type": "stream",
          "name": "stdout",
          "text": [
            "Working on ('rrssmrSub_0402_v00_T1.nii',)\n"
          ]
        },
        {
          "output_type": "stream",
          "name": "stderr",
          "text": [
            "<ipython-input-9-39b1b04a5fb3>:6: FutureWarning: The frame.append method is deprecated and will be removed from pandas in a future version. Use pandas.concat instead.\n",
            "  Test = Test.append({'ID': id, 'Age': y.item()}, ignore_index = True)\n"
          ]
        },
        {
          "output_type": "stream",
          "name": "stdout",
          "text": [
            "Working on ('rrssmrSub_0401_v03_T1.nii',)\n"
          ]
        },
        {
          "output_type": "stream",
          "name": "stderr",
          "text": [
            "<ipython-input-9-39b1b04a5fb3>:6: FutureWarning: The frame.append method is deprecated and will be removed from pandas in a future version. Use pandas.concat instead.\n",
            "  Test = Test.append({'ID': id, 'Age': y.item()}, ignore_index = True)\n"
          ]
        },
        {
          "output_type": "stream",
          "name": "stdout",
          "text": [
            "Working on ('rrssmrSub_0401_v02_T1.nii',)\n"
          ]
        },
        {
          "output_type": "stream",
          "name": "stderr",
          "text": [
            "<ipython-input-9-39b1b04a5fb3>:6: FutureWarning: The frame.append method is deprecated and will be removed from pandas in a future version. Use pandas.concat instead.\n",
            "  Test = Test.append({'ID': id, 'Age': y.item()}, ignore_index = True)\n"
          ]
        },
        {
          "output_type": "stream",
          "name": "stdout",
          "text": [
            "Working on ('rrssmrSub_0404_v00_T1.nii',)\n"
          ]
        },
        {
          "output_type": "stream",
          "name": "stderr",
          "text": [
            "<ipython-input-9-39b1b04a5fb3>:6: FutureWarning: The frame.append method is deprecated and will be removed from pandas in a future version. Use pandas.concat instead.\n",
            "  Test = Test.append({'ID': id, 'Age': y.item()}, ignore_index = True)\n"
          ]
        },
        {
          "output_type": "stream",
          "name": "stdout",
          "text": [
            "Working on ('rrssmrSub_0403_v01_T1.nii',)\n"
          ]
        },
        {
          "output_type": "stream",
          "name": "stderr",
          "text": [
            "<ipython-input-9-39b1b04a5fb3>:6: FutureWarning: The frame.append method is deprecated and will be removed from pandas in a future version. Use pandas.concat instead.\n",
            "  Test = Test.append({'ID': id, 'Age': y.item()}, ignore_index = True)\n"
          ]
        },
        {
          "output_type": "stream",
          "name": "stdout",
          "text": [
            "Working on ('rrssmrSub_0403_v00_T1.nii',)\n"
          ]
        },
        {
          "output_type": "stream",
          "name": "stderr",
          "text": [
            "<ipython-input-9-39b1b04a5fb3>:6: FutureWarning: The frame.append method is deprecated and will be removed from pandas in a future version. Use pandas.concat instead.\n",
            "  Test = Test.append({'ID': id, 'Age': y.item()}, ignore_index = True)\n"
          ]
        },
        {
          "output_type": "stream",
          "name": "stdout",
          "text": [
            "Working on ('rrssmrSub_0402_v01_T1.nii',)\n"
          ]
        },
        {
          "output_type": "stream",
          "name": "stderr",
          "text": [
            "<ipython-input-9-39b1b04a5fb3>:6: FutureWarning: The frame.append method is deprecated and will be removed from pandas in a future version. Use pandas.concat instead.\n",
            "  Test = Test.append({'ID': id, 'Age': y.item()}, ignore_index = True)\n"
          ]
        },
        {
          "output_type": "stream",
          "name": "stdout",
          "text": [
            "Working on ('rrssmrSub_0406_v00_T1.nii',)\n"
          ]
        },
        {
          "output_type": "stream",
          "name": "stderr",
          "text": [
            "<ipython-input-9-39b1b04a5fb3>:6: FutureWarning: The frame.append method is deprecated and will be removed from pandas in a future version. Use pandas.concat instead.\n",
            "  Test = Test.append({'ID': id, 'Age': y.item()}, ignore_index = True)\n"
          ]
        },
        {
          "output_type": "stream",
          "name": "stdout",
          "text": [
            "Working on ('rrssmrSub_0405_v01_T1.nii',)\n"
          ]
        },
        {
          "output_type": "stream",
          "name": "stderr",
          "text": [
            "<ipython-input-9-39b1b04a5fb3>:6: FutureWarning: The frame.append method is deprecated and will be removed from pandas in a future version. Use pandas.concat instead.\n",
            "  Test = Test.append({'ID': id, 'Age': y.item()}, ignore_index = True)\n"
          ]
        },
        {
          "output_type": "stream",
          "name": "stdout",
          "text": [
            "Working on ('rrssmrSub_0405_v00_T1.nii',)\n"
          ]
        },
        {
          "output_type": "stream",
          "name": "stderr",
          "text": [
            "<ipython-input-9-39b1b04a5fb3>:6: FutureWarning: The frame.append method is deprecated and will be removed from pandas in a future version. Use pandas.concat instead.\n",
            "  Test = Test.append({'ID': id, 'Age': y.item()}, ignore_index = True)\n"
          ]
        },
        {
          "output_type": "stream",
          "name": "stdout",
          "text": [
            "Working on ('rrssmrSub_0406_v04_T1.nii',)\n"
          ]
        },
        {
          "output_type": "stream",
          "name": "stderr",
          "text": [
            "<ipython-input-9-39b1b04a5fb3>:6: FutureWarning: The frame.append method is deprecated and will be removed from pandas in a future version. Use pandas.concat instead.\n",
            "  Test = Test.append({'ID': id, 'Age': y.item()}, ignore_index = True)\n"
          ]
        },
        {
          "output_type": "stream",
          "name": "stdout",
          "text": [
            "Working on ('rrssmrSub_0406_v03_T1.nii',)\n"
          ]
        },
        {
          "output_type": "stream",
          "name": "stderr",
          "text": [
            "<ipython-input-9-39b1b04a5fb3>:6: FutureWarning: The frame.append method is deprecated and will be removed from pandas in a future version. Use pandas.concat instead.\n",
            "  Test = Test.append({'ID': id, 'Age': y.item()}, ignore_index = True)\n"
          ]
        },
        {
          "output_type": "stream",
          "name": "stdout",
          "text": [
            "Working on ('rrssmrSub_0406_v02_T1.nii',)\n"
          ]
        },
        {
          "output_type": "stream",
          "name": "stderr",
          "text": [
            "<ipython-input-9-39b1b04a5fb3>:6: FutureWarning: The frame.append method is deprecated and will be removed from pandas in a future version. Use pandas.concat instead.\n",
            "  Test = Test.append({'ID': id, 'Age': y.item()}, ignore_index = True)\n"
          ]
        },
        {
          "output_type": "stream",
          "name": "stdout",
          "text": [
            "Working on ('rrssmrSub_0406_v01_T1.nii',)\n"
          ]
        },
        {
          "output_type": "stream",
          "name": "stderr",
          "text": [
            "<ipython-input-9-39b1b04a5fb3>:6: FutureWarning: The frame.append method is deprecated and will be removed from pandas in a future version. Use pandas.concat instead.\n",
            "  Test = Test.append({'ID': id, 'Age': y.item()}, ignore_index = True)\n"
          ]
        },
        {
          "output_type": "stream",
          "name": "stdout",
          "text": [
            "Working on ('rrssmrSub_0409_v00_T1.nii',)\n"
          ]
        },
        {
          "output_type": "stream",
          "name": "stderr",
          "text": [
            "<ipython-input-9-39b1b04a5fb3>:6: FutureWarning: The frame.append method is deprecated and will be removed from pandas in a future version. Use pandas.concat instead.\n",
            "  Test = Test.append({'ID': id, 'Age': y.item()}, ignore_index = True)\n"
          ]
        },
        {
          "output_type": "stream",
          "name": "stdout",
          "text": [
            "Working on ('rrssmrSub_0408_v00_T1.nii',)\n"
          ]
        },
        {
          "output_type": "stream",
          "name": "stderr",
          "text": [
            "<ipython-input-9-39b1b04a5fb3>:6: FutureWarning: The frame.append method is deprecated and will be removed from pandas in a future version. Use pandas.concat instead.\n",
            "  Test = Test.append({'ID': id, 'Age': y.item()}, ignore_index = True)\n"
          ]
        },
        {
          "output_type": "stream",
          "name": "stdout",
          "text": [
            "Working on ('rrssmrSub_0407_v00_T1.nii',)\n"
          ]
        },
        {
          "output_type": "stream",
          "name": "stderr",
          "text": [
            "<ipython-input-9-39b1b04a5fb3>:6: FutureWarning: The frame.append method is deprecated and will be removed from pandas in a future version. Use pandas.concat instead.\n",
            "  Test = Test.append({'ID': id, 'Age': y.item()}, ignore_index = True)\n"
          ]
        },
        {
          "output_type": "stream",
          "name": "stdout",
          "text": [
            "Working on ('rrssmrSub_0409_v04_T1.nii',)\n"
          ]
        },
        {
          "output_type": "stream",
          "name": "stderr",
          "text": [
            "<ipython-input-9-39b1b04a5fb3>:6: FutureWarning: The frame.append method is deprecated and will be removed from pandas in a future version. Use pandas.concat instead.\n",
            "  Test = Test.append({'ID': id, 'Age': y.item()}, ignore_index = True)\n"
          ]
        },
        {
          "output_type": "stream",
          "name": "stdout",
          "text": [
            "Working on ('rrssmrSub_0409_v03_T1.nii',)\n"
          ]
        },
        {
          "output_type": "stream",
          "name": "stderr",
          "text": [
            "<ipython-input-9-39b1b04a5fb3>:6: FutureWarning: The frame.append method is deprecated and will be removed from pandas in a future version. Use pandas.concat instead.\n",
            "  Test = Test.append({'ID': id, 'Age': y.item()}, ignore_index = True)\n"
          ]
        },
        {
          "output_type": "stream",
          "name": "stdout",
          "text": [
            "Working on ('rrssmrSub_0409_v02_T1.nii',)\n"
          ]
        },
        {
          "output_type": "stream",
          "name": "stderr",
          "text": [
            "<ipython-input-9-39b1b04a5fb3>:6: FutureWarning: The frame.append method is deprecated and will be removed from pandas in a future version. Use pandas.concat instead.\n",
            "  Test = Test.append({'ID': id, 'Age': y.item()}, ignore_index = True)\n"
          ]
        },
        {
          "output_type": "stream",
          "name": "stdout",
          "text": [
            "Working on ('rrssmrSub_0409_v01_T1.nii',)\n"
          ]
        },
        {
          "output_type": "stream",
          "name": "stderr",
          "text": [
            "<ipython-input-9-39b1b04a5fb3>:6: FutureWarning: The frame.append method is deprecated and will be removed from pandas in a future version. Use pandas.concat instead.\n",
            "  Test = Test.append({'ID': id, 'Age': y.item()}, ignore_index = True)\n"
          ]
        },
        {
          "output_type": "stream",
          "name": "stdout",
          "text": [
            "Working on ('rrssmrSub_0410_v01_T1.nii',)\n"
          ]
        },
        {
          "output_type": "stream",
          "name": "stderr",
          "text": [
            "<ipython-input-9-39b1b04a5fb3>:6: FutureWarning: The frame.append method is deprecated and will be removed from pandas in a future version. Use pandas.concat instead.\n",
            "  Test = Test.append({'ID': id, 'Age': y.item()}, ignore_index = True)\n"
          ]
        },
        {
          "output_type": "stream",
          "name": "stdout",
          "text": [
            "Working on ('rrssmrSub_0410_v00_T1.nii',)\n"
          ]
        },
        {
          "output_type": "stream",
          "name": "stderr",
          "text": [
            "<ipython-input-9-39b1b04a5fb3>:6: FutureWarning: The frame.append method is deprecated and will be removed from pandas in a future version. Use pandas.concat instead.\n",
            "  Test = Test.append({'ID': id, 'Age': y.item()}, ignore_index = True)\n"
          ]
        },
        {
          "output_type": "stream",
          "name": "stdout",
          "text": [
            "Working on ('rrssmrSub_0409_v05_T1.nii',)\n"
          ]
        },
        {
          "output_type": "stream",
          "name": "stderr",
          "text": [
            "<ipython-input-9-39b1b04a5fb3>:6: FutureWarning: The frame.append method is deprecated and will be removed from pandas in a future version. Use pandas.concat instead.\n",
            "  Test = Test.append({'ID': id, 'Age': y.item()}, ignore_index = True)\n"
          ]
        },
        {
          "output_type": "stream",
          "name": "stdout",
          "text": [
            "Working on ('rrssmrSub_0411_v00_T1.nii',)\n"
          ]
        },
        {
          "output_type": "stream",
          "name": "stderr",
          "text": [
            "<ipython-input-9-39b1b04a5fb3>:6: FutureWarning: The frame.append method is deprecated and will be removed from pandas in a future version. Use pandas.concat instead.\n",
            "  Test = Test.append({'ID': id, 'Age': y.item()}, ignore_index = True)\n"
          ]
        },
        {
          "output_type": "stream",
          "name": "stdout",
          "text": [
            "Working on ('rrssmrSub_0410_v04_T1.nii',)\n"
          ]
        },
        {
          "output_type": "stream",
          "name": "stderr",
          "text": [
            "<ipython-input-9-39b1b04a5fb3>:6: FutureWarning: The frame.append method is deprecated and will be removed from pandas in a future version. Use pandas.concat instead.\n",
            "  Test = Test.append({'ID': id, 'Age': y.item()}, ignore_index = True)\n"
          ]
        },
        {
          "output_type": "stream",
          "name": "stdout",
          "text": [
            "Working on ('rrssmrSub_0410_v03_T1.nii',)\n"
          ]
        },
        {
          "output_type": "stream",
          "name": "stderr",
          "text": [
            "<ipython-input-9-39b1b04a5fb3>:6: FutureWarning: The frame.append method is deprecated and will be removed from pandas in a future version. Use pandas.concat instead.\n",
            "  Test = Test.append({'ID': id, 'Age': y.item()}, ignore_index = True)\n"
          ]
        },
        {
          "output_type": "stream",
          "name": "stdout",
          "text": [
            "Working on ('rrssmrSub_0410_v02_T1.nii',)\n"
          ]
        },
        {
          "output_type": "stream",
          "name": "stderr",
          "text": [
            "<ipython-input-9-39b1b04a5fb3>:6: FutureWarning: The frame.append method is deprecated and will be removed from pandas in a future version. Use pandas.concat instead.\n",
            "  Test = Test.append({'ID': id, 'Age': y.item()}, ignore_index = True)\n"
          ]
        },
        {
          "output_type": "stream",
          "name": "stdout",
          "text": [
            "Working on ('rrssmrSub_0413_v01_T1.nii',)\n"
          ]
        },
        {
          "output_type": "stream",
          "name": "stderr",
          "text": [
            "<ipython-input-9-39b1b04a5fb3>:6: FutureWarning: The frame.append method is deprecated and will be removed from pandas in a future version. Use pandas.concat instead.\n",
            "  Test = Test.append({'ID': id, 'Age': y.item()}, ignore_index = True)\n"
          ]
        },
        {
          "output_type": "stream",
          "name": "stdout",
          "text": [
            "Working on ('rrssmrSub_0413_v00_T1.nii',)\n"
          ]
        },
        {
          "output_type": "stream",
          "name": "stderr",
          "text": [
            "<ipython-input-9-39b1b04a5fb3>:6: FutureWarning: The frame.append method is deprecated and will be removed from pandas in a future version. Use pandas.concat instead.\n",
            "  Test = Test.append({'ID': id, 'Age': y.item()}, ignore_index = True)\n"
          ]
        },
        {
          "output_type": "stream",
          "name": "stdout",
          "text": [
            "Working on ('rrssmrSub_0412_v00_T1.nii',)\n"
          ]
        },
        {
          "output_type": "stream",
          "name": "stderr",
          "text": [
            "<ipython-input-9-39b1b04a5fb3>:6: FutureWarning: The frame.append method is deprecated and will be removed from pandas in a future version. Use pandas.concat instead.\n",
            "  Test = Test.append({'ID': id, 'Age': y.item()}, ignore_index = True)\n"
          ]
        },
        {
          "output_type": "stream",
          "name": "stdout",
          "text": [
            "Working on ('rrssmrSub_0416_v00_T1.nii',)\n"
          ]
        },
        {
          "output_type": "stream",
          "name": "stderr",
          "text": [
            "<ipython-input-9-39b1b04a5fb3>:6: FutureWarning: The frame.append method is deprecated and will be removed from pandas in a future version. Use pandas.concat instead.\n",
            "  Test = Test.append({'ID': id, 'Age': y.item()}, ignore_index = True)\n"
          ]
        },
        {
          "output_type": "stream",
          "name": "stdout",
          "text": [
            "Working on ('rrssmrSub_0415_v00_T1.nii',)\n"
          ]
        },
        {
          "output_type": "stream",
          "name": "stderr",
          "text": [
            "<ipython-input-9-39b1b04a5fb3>:6: FutureWarning: The frame.append method is deprecated and will be removed from pandas in a future version. Use pandas.concat instead.\n",
            "  Test = Test.append({'ID': id, 'Age': y.item()}, ignore_index = True)\n"
          ]
        },
        {
          "output_type": "stream",
          "name": "stdout",
          "text": [
            "Working on ('rrssmrSub_0414_v01_T1.nii',)\n"
          ]
        },
        {
          "output_type": "stream",
          "name": "stderr",
          "text": [
            "<ipython-input-9-39b1b04a5fb3>:6: FutureWarning: The frame.append method is deprecated and will be removed from pandas in a future version. Use pandas.concat instead.\n",
            "  Test = Test.append({'ID': id, 'Age': y.item()}, ignore_index = True)\n"
          ]
        },
        {
          "output_type": "stream",
          "name": "stdout",
          "text": [
            "Working on ('rrssmrSub_0414_v00_T1.nii',)\n"
          ]
        },
        {
          "output_type": "stream",
          "name": "stderr",
          "text": [
            "<ipython-input-9-39b1b04a5fb3>:6: FutureWarning: The frame.append method is deprecated and will be removed from pandas in a future version. Use pandas.concat instead.\n",
            "  Test = Test.append({'ID': id, 'Age': y.item()}, ignore_index = True)\n"
          ]
        },
        {
          "output_type": "stream",
          "name": "stdout",
          "text": [
            "Working on ('rrssmrSub_0416_v03_T1.nii',)\n"
          ]
        },
        {
          "output_type": "stream",
          "name": "stderr",
          "text": [
            "<ipython-input-9-39b1b04a5fb3>:6: FutureWarning: The frame.append method is deprecated and will be removed from pandas in a future version. Use pandas.concat instead.\n",
            "  Test = Test.append({'ID': id, 'Age': y.item()}, ignore_index = True)\n"
          ]
        },
        {
          "output_type": "stream",
          "name": "stdout",
          "text": [
            "Working on ('rrssmrSub_0416_v02_T1.nii',)\n"
          ]
        },
        {
          "output_type": "stream",
          "name": "stderr",
          "text": [
            "<ipython-input-9-39b1b04a5fb3>:6: FutureWarning: The frame.append method is deprecated and will be removed from pandas in a future version. Use pandas.concat instead.\n",
            "  Test = Test.append({'ID': id, 'Age': y.item()}, ignore_index = True)\n"
          ]
        },
        {
          "output_type": "stream",
          "name": "stdout",
          "text": [
            "Working on ('rrssmrSub_0416_v01_T1.nii',)\n"
          ]
        },
        {
          "output_type": "stream",
          "name": "stderr",
          "text": [
            "<ipython-input-9-39b1b04a5fb3>:6: FutureWarning: The frame.append method is deprecated and will be removed from pandas in a future version. Use pandas.concat instead.\n",
            "  Test = Test.append({'ID': id, 'Age': y.item()}, ignore_index = True)\n"
          ]
        },
        {
          "output_type": "stream",
          "name": "stdout",
          "text": [
            "Working on ('rrssmrSub_0419_v00_T1.nii',)\n"
          ]
        },
        {
          "output_type": "stream",
          "name": "stderr",
          "text": [
            "<ipython-input-9-39b1b04a5fb3>:6: FutureWarning: The frame.append method is deprecated and will be removed from pandas in a future version. Use pandas.concat instead.\n",
            "  Test = Test.append({'ID': id, 'Age': y.item()}, ignore_index = True)\n"
          ]
        },
        {
          "output_type": "stream",
          "name": "stdout",
          "text": [
            "Working on ('rrssmrSub_0418_v00_T1.nii',)\n"
          ]
        },
        {
          "output_type": "stream",
          "name": "stderr",
          "text": [
            "<ipython-input-9-39b1b04a5fb3>:6: FutureWarning: The frame.append method is deprecated and will be removed from pandas in a future version. Use pandas.concat instead.\n",
            "  Test = Test.append({'ID': id, 'Age': y.item()}, ignore_index = True)\n"
          ]
        },
        {
          "output_type": "stream",
          "name": "stdout",
          "text": [
            "Working on ('rrssmrSub_0417_v00_T1.nii',)\n"
          ]
        },
        {
          "output_type": "stream",
          "name": "stderr",
          "text": [
            "<ipython-input-9-39b1b04a5fb3>:6: FutureWarning: The frame.append method is deprecated and will be removed from pandas in a future version. Use pandas.concat instead.\n",
            "  Test = Test.append({'ID': id, 'Age': y.item()}, ignore_index = True)\n"
          ]
        },
        {
          "output_type": "stream",
          "name": "stdout",
          "text": [
            "Working on ('rrssmrSub_0416_v04_T1.nii',)\n"
          ]
        },
        {
          "output_type": "stream",
          "name": "stderr",
          "text": [
            "<ipython-input-9-39b1b04a5fb3>:6: FutureWarning: The frame.append method is deprecated and will be removed from pandas in a future version. Use pandas.concat instead.\n",
            "  Test = Test.append({'ID': id, 'Age': y.item()}, ignore_index = True)\n"
          ]
        },
        {
          "output_type": "stream",
          "name": "stdout",
          "text": [
            "Working on ('rrssmrSub_0421_v00_T1.nii',)\n"
          ]
        },
        {
          "output_type": "stream",
          "name": "stderr",
          "text": [
            "<ipython-input-9-39b1b04a5fb3>:6: FutureWarning: The frame.append method is deprecated and will be removed from pandas in a future version. Use pandas.concat instead.\n",
            "  Test = Test.append({'ID': id, 'Age': y.item()}, ignore_index = True)\n"
          ]
        },
        {
          "output_type": "stream",
          "name": "stdout",
          "text": [
            "Working on ('rrssmrSub_0420_v00_T1.nii',)\n"
          ]
        },
        {
          "output_type": "stream",
          "name": "stderr",
          "text": [
            "<ipython-input-9-39b1b04a5fb3>:6: FutureWarning: The frame.append method is deprecated and will be removed from pandas in a future version. Use pandas.concat instead.\n",
            "  Test = Test.append({'ID': id, 'Age': y.item()}, ignore_index = True)\n"
          ]
        },
        {
          "output_type": "stream",
          "name": "stdout",
          "text": [
            "Working on ('rrssmrSub_0419_v02_T1.nii',)\n"
          ]
        },
        {
          "output_type": "stream",
          "name": "stderr",
          "text": [
            "<ipython-input-9-39b1b04a5fb3>:6: FutureWarning: The frame.append method is deprecated and will be removed from pandas in a future version. Use pandas.concat instead.\n",
            "  Test = Test.append({'ID': id, 'Age': y.item()}, ignore_index = True)\n"
          ]
        },
        {
          "output_type": "stream",
          "name": "stdout",
          "text": [
            "Working on ('rrssmrSub_0419_v01_T1.nii',)\n"
          ]
        },
        {
          "output_type": "stream",
          "name": "stderr",
          "text": [
            "<ipython-input-9-39b1b04a5fb3>:6: FutureWarning: The frame.append method is deprecated and will be removed from pandas in a future version. Use pandas.concat instead.\n",
            "  Test = Test.append({'ID': id, 'Age': y.item()}, ignore_index = True)\n"
          ]
        },
        {
          "output_type": "stream",
          "name": "stdout",
          "text": [
            "Working on ('rrssmrSub_0421_v04_T1.nii',)\n"
          ]
        },
        {
          "output_type": "stream",
          "name": "stderr",
          "text": [
            "<ipython-input-9-39b1b04a5fb3>:6: FutureWarning: The frame.append method is deprecated and will be removed from pandas in a future version. Use pandas.concat instead.\n",
            "  Test = Test.append({'ID': id, 'Age': y.item()}, ignore_index = True)\n"
          ]
        },
        {
          "output_type": "stream",
          "name": "stdout",
          "text": [
            "Working on ('rrssmrSub_0421_v03_T1.nii',)\n"
          ]
        },
        {
          "output_type": "stream",
          "name": "stderr",
          "text": [
            "<ipython-input-9-39b1b04a5fb3>:6: FutureWarning: The frame.append method is deprecated and will be removed from pandas in a future version. Use pandas.concat instead.\n",
            "  Test = Test.append({'ID': id, 'Age': y.item()}, ignore_index = True)\n"
          ]
        },
        {
          "output_type": "stream",
          "name": "stdout",
          "text": [
            "Working on ('rrssmrSub_0421_v02_T1.nii',)\n"
          ]
        },
        {
          "output_type": "stream",
          "name": "stderr",
          "text": [
            "<ipython-input-9-39b1b04a5fb3>:6: FutureWarning: The frame.append method is deprecated and will be removed from pandas in a future version. Use pandas.concat instead.\n",
            "  Test = Test.append({'ID': id, 'Age': y.item()}, ignore_index = True)\n"
          ]
        },
        {
          "output_type": "stream",
          "name": "stdout",
          "text": [
            "Working on ('rrssmrSub_0421_v01_T1.nii',)\n"
          ]
        },
        {
          "output_type": "stream",
          "name": "stderr",
          "text": [
            "<ipython-input-9-39b1b04a5fb3>:6: FutureWarning: The frame.append method is deprecated and will be removed from pandas in a future version. Use pandas.concat instead.\n",
            "  Test = Test.append({'ID': id, 'Age': y.item()}, ignore_index = True)\n"
          ]
        },
        {
          "output_type": "stream",
          "name": "stdout",
          "text": [
            "Working on ('rrssmrSub_0423_v01_T1.nii',)\n"
          ]
        },
        {
          "output_type": "stream",
          "name": "stderr",
          "text": [
            "<ipython-input-9-39b1b04a5fb3>:6: FutureWarning: The frame.append method is deprecated and will be removed from pandas in a future version. Use pandas.concat instead.\n",
            "  Test = Test.append({'ID': id, 'Age': y.item()}, ignore_index = True)\n"
          ]
        },
        {
          "output_type": "stream",
          "name": "stdout",
          "text": [
            "Working on ('rrssmrSub_0423_v00_T1.nii',)\n"
          ]
        },
        {
          "output_type": "stream",
          "name": "stderr",
          "text": [
            "<ipython-input-9-39b1b04a5fb3>:6: FutureWarning: The frame.append method is deprecated and will be removed from pandas in a future version. Use pandas.concat instead.\n",
            "  Test = Test.append({'ID': id, 'Age': y.item()}, ignore_index = True)\n"
          ]
        },
        {
          "output_type": "stream",
          "name": "stdout",
          "text": [
            "Working on ('rrssmrSub_0422_v00_T1.nii',)\n"
          ]
        },
        {
          "output_type": "stream",
          "name": "stderr",
          "text": [
            "<ipython-input-9-39b1b04a5fb3>:6: FutureWarning: The frame.append method is deprecated and will be removed from pandas in a future version. Use pandas.concat instead.\n",
            "  Test = Test.append({'ID': id, 'Age': y.item()}, ignore_index = True)\n"
          ]
        },
        {
          "output_type": "stream",
          "name": "stdout",
          "text": [
            "Working on ('rrssmrSub_0424_v00_T1.nii',)\n"
          ]
        },
        {
          "output_type": "stream",
          "name": "stderr",
          "text": [
            "<ipython-input-9-39b1b04a5fb3>:6: FutureWarning: The frame.append method is deprecated and will be removed from pandas in a future version. Use pandas.concat instead.\n",
            "  Test = Test.append({'ID': id, 'Age': y.item()}, ignore_index = True)\n"
          ]
        },
        {
          "output_type": "stream",
          "name": "stdout",
          "text": [
            "Working on ('rrssmrSub_0423_v03_T1.nii',)\n"
          ]
        },
        {
          "output_type": "stream",
          "name": "stderr",
          "text": [
            "<ipython-input-9-39b1b04a5fb3>:6: FutureWarning: The frame.append method is deprecated and will be removed from pandas in a future version. Use pandas.concat instead.\n",
            "  Test = Test.append({'ID': id, 'Age': y.item()}, ignore_index = True)\n"
          ]
        },
        {
          "output_type": "stream",
          "name": "stdout",
          "text": [
            "Working on ('rrssmrSub_0423_v02_T1.nii',)\n"
          ]
        },
        {
          "output_type": "stream",
          "name": "stderr",
          "text": [
            "<ipython-input-9-39b1b04a5fb3>:6: FutureWarning: The frame.append method is deprecated and will be removed from pandas in a future version. Use pandas.concat instead.\n",
            "  Test = Test.append({'ID': id, 'Age': y.item()}, ignore_index = True)\n"
          ]
        },
        {
          "output_type": "stream",
          "name": "stdout",
          "text": [
            "Working on ('rrssmrSub_0425_v03_T1.nii',)\n"
          ]
        },
        {
          "output_type": "stream",
          "name": "stderr",
          "text": [
            "<ipython-input-9-39b1b04a5fb3>:6: FutureWarning: The frame.append method is deprecated and will be removed from pandas in a future version. Use pandas.concat instead.\n",
            "  Test = Test.append({'ID': id, 'Age': y.item()}, ignore_index = True)\n"
          ]
        },
        {
          "output_type": "stream",
          "name": "stdout",
          "text": [
            "Working on ('rrssmrSub_0425_v02_T1.nii',)\n"
          ]
        },
        {
          "output_type": "stream",
          "name": "stderr",
          "text": [
            "<ipython-input-9-39b1b04a5fb3>:6: FutureWarning: The frame.append method is deprecated and will be removed from pandas in a future version. Use pandas.concat instead.\n",
            "  Test = Test.append({'ID': id, 'Age': y.item()}, ignore_index = True)\n"
          ]
        },
        {
          "output_type": "stream",
          "name": "stdout",
          "text": [
            "Working on ('rrssmrSub_0425_v01_T1.nii',)\n"
          ]
        },
        {
          "output_type": "stream",
          "name": "stderr",
          "text": [
            "<ipython-input-9-39b1b04a5fb3>:6: FutureWarning: The frame.append method is deprecated and will be removed from pandas in a future version. Use pandas.concat instead.\n",
            "  Test = Test.append({'ID': id, 'Age': y.item()}, ignore_index = True)\n"
          ]
        },
        {
          "output_type": "stream",
          "name": "stdout",
          "text": [
            "Working on ('rrssmrSub_0425_v00_T1.nii',)\n"
          ]
        },
        {
          "output_type": "stream",
          "name": "stderr",
          "text": [
            "<ipython-input-9-39b1b04a5fb3>:6: FutureWarning: The frame.append method is deprecated and will be removed from pandas in a future version. Use pandas.concat instead.\n",
            "  Test = Test.append({'ID': id, 'Age': y.item()}, ignore_index = True)\n"
          ]
        },
        {
          "output_type": "stream",
          "name": "stdout",
          "text": [
            "Working on ('rrssmrSub_0426_v02_T1.nii',)\n"
          ]
        },
        {
          "output_type": "stream",
          "name": "stderr",
          "text": [
            "<ipython-input-9-39b1b04a5fb3>:6: FutureWarning: The frame.append method is deprecated and will be removed from pandas in a future version. Use pandas.concat instead.\n",
            "  Test = Test.append({'ID': id, 'Age': y.item()}, ignore_index = True)\n"
          ]
        },
        {
          "output_type": "stream",
          "name": "stdout",
          "text": [
            "Working on ('rrssmrSub_0426_v01_T1.nii',)\n"
          ]
        },
        {
          "output_type": "stream",
          "name": "stderr",
          "text": [
            "<ipython-input-9-39b1b04a5fb3>:6: FutureWarning: The frame.append method is deprecated and will be removed from pandas in a future version. Use pandas.concat instead.\n",
            "  Test = Test.append({'ID': id, 'Age': y.item()}, ignore_index = True)\n"
          ]
        },
        {
          "output_type": "stream",
          "name": "stdout",
          "text": [
            "Working on ('rrssmrSub_0426_v00_T1.nii',)\n"
          ]
        },
        {
          "output_type": "stream",
          "name": "stderr",
          "text": [
            "<ipython-input-9-39b1b04a5fb3>:6: FutureWarning: The frame.append method is deprecated and will be removed from pandas in a future version. Use pandas.concat instead.\n",
            "  Test = Test.append({'ID': id, 'Age': y.item()}, ignore_index = True)\n"
          ]
        },
        {
          "output_type": "stream",
          "name": "stdout",
          "text": [
            "Working on ('rrssmrSub_0425_v04_T1.nii',)\n"
          ]
        },
        {
          "output_type": "stream",
          "name": "stderr",
          "text": [
            "<ipython-input-9-39b1b04a5fb3>:6: FutureWarning: The frame.append method is deprecated and will be removed from pandas in a future version. Use pandas.concat instead.\n",
            "  Test = Test.append({'ID': id, 'Age': y.item()}, ignore_index = True)\n"
          ]
        },
        {
          "output_type": "stream",
          "name": "stdout",
          "text": [
            "Working on ('rrssmrSub_0427_v01_T1.nii',)\n"
          ]
        },
        {
          "output_type": "stream",
          "name": "stderr",
          "text": [
            "<ipython-input-9-39b1b04a5fb3>:6: FutureWarning: The frame.append method is deprecated and will be removed from pandas in a future version. Use pandas.concat instead.\n",
            "  Test = Test.append({'ID': id, 'Age': y.item()}, ignore_index = True)\n"
          ]
        },
        {
          "output_type": "stream",
          "name": "stdout",
          "text": [
            "Working on ('rrssmrSub_0427_v00_T1.nii',)\n"
          ]
        },
        {
          "output_type": "stream",
          "name": "stderr",
          "text": [
            "<ipython-input-9-39b1b04a5fb3>:6: FutureWarning: The frame.append method is deprecated and will be removed from pandas in a future version. Use pandas.concat instead.\n",
            "  Test = Test.append({'ID': id, 'Age': y.item()}, ignore_index = True)\n"
          ]
        },
        {
          "output_type": "stream",
          "name": "stdout",
          "text": [
            "Working on ('rrssmrSub_0426_v03_T1.nii',)\n"
          ]
        },
        {
          "output_type": "stream",
          "name": "stderr",
          "text": [
            "<ipython-input-9-39b1b04a5fb3>:6: FutureWarning: The frame.append method is deprecated and will be removed from pandas in a future version. Use pandas.concat instead.\n",
            "  Test = Test.append({'ID': id, 'Age': y.item()}, ignore_index = True)\n"
          ]
        },
        {
          "output_type": "stream",
          "name": "stdout",
          "text": [
            "Working on ('rrssmrSub_0428_v01_T1.nii',)\n"
          ]
        },
        {
          "output_type": "stream",
          "name": "stderr",
          "text": [
            "<ipython-input-9-39b1b04a5fb3>:6: FutureWarning: The frame.append method is deprecated and will be removed from pandas in a future version. Use pandas.concat instead.\n",
            "  Test = Test.append({'ID': id, 'Age': y.item()}, ignore_index = True)\n"
          ]
        },
        {
          "output_type": "stream",
          "name": "stdout",
          "text": [
            "Working on ('rrssmrSub_0428_v00_T1.nii',)\n"
          ]
        },
        {
          "output_type": "stream",
          "name": "stderr",
          "text": [
            "<ipython-input-9-39b1b04a5fb3>:6: FutureWarning: The frame.append method is deprecated and will be removed from pandas in a future version. Use pandas.concat instead.\n",
            "  Test = Test.append({'ID': id, 'Age': y.item()}, ignore_index = True)\n"
          ]
        },
        {
          "output_type": "stream",
          "name": "stdout",
          "text": [
            "Working on ('rrssmrSub_0427_v03_T1.nii',)\n"
          ]
        },
        {
          "output_type": "stream",
          "name": "stderr",
          "text": [
            "<ipython-input-9-39b1b04a5fb3>:6: FutureWarning: The frame.append method is deprecated and will be removed from pandas in a future version. Use pandas.concat instead.\n",
            "  Test = Test.append({'ID': id, 'Age': y.item()}, ignore_index = True)\n"
          ]
        },
        {
          "output_type": "stream",
          "name": "stdout",
          "text": [
            "Working on ('rrssmrSub_0427_v02_T1.nii',)\n"
          ]
        },
        {
          "output_type": "stream",
          "name": "stderr",
          "text": [
            "<ipython-input-9-39b1b04a5fb3>:6: FutureWarning: The frame.append method is deprecated and will be removed from pandas in a future version. Use pandas.concat instead.\n",
            "  Test = Test.append({'ID': id, 'Age': y.item()}, ignore_index = True)\n"
          ]
        },
        {
          "output_type": "stream",
          "name": "stdout",
          "text": [
            "Working on ('rrssmrSub_0429_v02_T1.nii',)\n"
          ]
        },
        {
          "output_type": "stream",
          "name": "stderr",
          "text": [
            "<ipython-input-9-39b1b04a5fb3>:6: FutureWarning: The frame.append method is deprecated and will be removed from pandas in a future version. Use pandas.concat instead.\n",
            "  Test = Test.append({'ID': id, 'Age': y.item()}, ignore_index = True)\n"
          ]
        },
        {
          "output_type": "stream",
          "name": "stdout",
          "text": [
            "Working on ('rrssmrSub_0429_v01_T1.nii',)\n"
          ]
        },
        {
          "output_type": "stream",
          "name": "stderr",
          "text": [
            "<ipython-input-9-39b1b04a5fb3>:6: FutureWarning: The frame.append method is deprecated and will be removed from pandas in a future version. Use pandas.concat instead.\n",
            "  Test = Test.append({'ID': id, 'Age': y.item()}, ignore_index = True)\n"
          ]
        },
        {
          "output_type": "stream",
          "name": "stdout",
          "text": [
            "Working on ('rrssmrSub_0429_v00_T1.nii',)\n"
          ]
        },
        {
          "output_type": "stream",
          "name": "stderr",
          "text": [
            "<ipython-input-9-39b1b04a5fb3>:6: FutureWarning: The frame.append method is deprecated and will be removed from pandas in a future version. Use pandas.concat instead.\n",
            "  Test = Test.append({'ID': id, 'Age': y.item()}, ignore_index = True)\n"
          ]
        }
      ]
    },
    {
      "cell_type": "markdown",
      "source": [
        "# Creation of an excel and csv files of results"
      ],
      "metadata": {
        "id": "CzWjFoj5jJXL"
      }
    },
    {
      "cell_type": "code",
      "source": [
        "Test[['ID','Age']].to_excel('/content/drive/MyDrive/Results.xlsx')"
      ],
      "metadata": {
        "id": "BTBKkr87EiIo"
      },
      "execution_count": null,
      "outputs": []
    },
    {
      "cell_type": "code",
      "source": [
        "df = pd.read_excel(r'/content/drive/MyDrive/res.xlsx')"
      ],
      "metadata": {
        "id": "P5t2dXzmElKH"
      },
      "execution_count": null,
      "outputs": []
    },
    {
      "cell_type": "code",
      "source": [
        "df.to_csv('/content/drive/MyDrive/Results.csv', index = False)"
      ],
      "metadata": {
        "id": "hsZoM3qcEtBC"
      },
      "execution_count": null,
      "outputs": []
    }
  ],
  "metadata": {
    "accelerator": "GPU",
    "colab": {
      "provenance": []
    },
    "kernelspec": {
      "display_name": "Python 3",
      "name": "python3"
    },
    "language_info": {
      "name": "python"
    }
  },
  "nbformat": 4,
  "nbformat_minor": 0
}